{
 "cells": [
  {
   "cell_type": "code",
   "execution_count": 1,
   "id": "e854ae2c",
   "metadata": {
    "_cell_guid": "b1076dfc-b9ad-4769-8c92-a6c4dae69d19",
    "_uuid": "8f2839f25d086af736a60e9eeb907d3b93b6e0e5",
    "execution": {
     "iopub.execute_input": "2023-04-20T09:42:29.743102Z",
     "iopub.status.busy": "2023-04-20T09:42:29.742104Z",
     "iopub.status.idle": "2023-04-20T09:42:33.101016Z",
     "shell.execute_reply": "2023-04-20T09:42:33.099744Z"
    },
    "papermill": {
     "duration": 3.370316,
     "end_time": "2023-04-20T09:42:33.104059",
     "exception": false,
     "start_time": "2023-04-20T09:42:29.733743",
     "status": "completed"
    },
    "tags": []
   },
   "outputs": [
    {
     "name": "stdout",
     "output_type": "stream",
     "text": [
      "1.13.0\n",
      "/kaggle/input/face-images-with-marked-landmark-points/facial_keypoints.csv\n",
      "/kaggle/input/face-images-with-marked-landmark-points/face_images.npz\n",
      "device avaiable: cuda\n"
     ]
    }
   ],
   "source": [
    "import numpy as np\n",
    "import pandas as pd\n",
    "import  matplotlib.pyplot as plt\n",
    "import os\n",
    "import cv2\n",
    "import seaborn as sns\n",
    "import numpy as np \n",
    "import pandas as pd\n",
    "from tqdm import tqdm\n",
    "import pickle\n",
    "import torch\n",
    "print(torch.__version__)\n",
    "import os, random\n",
    "for dirname, _, filenames in os.walk('/kaggle/input'):\n",
    "    for filename in filenames:\n",
    "        print(os.path.join(dirname, filename))\n",
    "device = torch.device('cuda' if torch.cuda.is_available() else 'cpu')\n",
    "print(\"device avaiable:\", device)"
   ]
  },
  {
   "cell_type": "code",
   "execution_count": 2,
   "id": "e065cea6",
   "metadata": {
    "papermill": {
     "duration": 2.878751,
     "end_time": "2023-04-20T09:42:35.989790",
     "exception": false,
     "start_time": "2023-04-20T09:42:33.111039",
     "status": "completed"
    },
    "tags": []
   },
   "outputs": [
    {
     "name": "stdout",
     "output_type": "stream",
     "text": [
      "Mon Mar 17 19:29:16 2025       \n",
      "+-----------------------------------------------------------------------------------------+\n",
      "| NVIDIA-SMI 561.19                 Driver Version: 561.19         CUDA Version: 12.6     |\n",
      "|-----------------------------------------+------------------------+----------------------+\n",
      "| GPU  Name                  Driver-Model | Bus-Id          Disp.A | Volatile Uncorr. ECC |\n",
      "| Fan  Temp   Perf          Pwr:Usage/Cap |           Memory-Usage | GPU-Util  Compute M. |\n",
      "|                                         |                        |               MIG M. |\n",
      "|=========================================+========================+======================|\n",
      "|   0  NVIDIA GeForce GTX 1650      WDDM  |   00000000:01:00.0 Off |                  N/A |\n",
      "| N/A   51C    P0             13W /   50W |       0MiB /   4096MiB |      0%      Default |\n",
      "|                                         |                        |                  N/A |\n",
      "+-----------------------------------------+------------------------+----------------------+\n",
      "                                                                                         \n",
      "+-----------------------------------------------------------------------------------------+\n",
      "| Processes:                                                                              |\n",
      "|  GPU   GI   CI        PID   Type   Process name                              GPU Memory |\n",
      "|        ID   ID                                                               Usage      |\n",
      "|=========================================================================================|\n",
      "|  No running processes found                                                             |\n",
      "+-----------------------------------------------------------------------------------------+\n",
      "nvcc: NVIDIA (R) Cuda compiler driver\n",
      "Copyright (c) 2005-2022 NVIDIA Corporation\n",
      "Built on Mon_Oct_24_19:40:05_Pacific_Daylight_Time_2022\n",
      "Cuda compilation tools, release 12.0, V12.0.76\n",
      "Build cuda_12.0.r12.0/compiler.31968024_0\n",
      "______________________________________________________________________________________________________________________________________________________\n"
     ]
    }
   ],
   "source": [
    "!nvidia-smi\n",
    "!nvcc -V\n",
    "print(\"_____\"*30)"
   ]
  },
  {
   "cell_type": "code",
   "execution_count": 3,
   "id": "d2f3baba",
   "metadata": {
    "execution": {
     "iopub.execute_input": "2023-04-20T09:42:36.004850Z",
     "iopub.status.busy": "2023-04-20T09:42:36.004510Z",
     "iopub.status.idle": "2023-04-20T09:42:40.979116Z",
     "shell.execute_reply": "2023-04-20T09:42:40.977562Z"
    },
    "papermill": {
     "duration": 4.984653,
     "end_time": "2023-04-20T09:42:40.981383",
     "exception": false,
     "start_time": "2023-04-20T09:42:35.996730",
     "status": "completed"
    },
    "tags": []
   },
   "outputs": [
    {
     "name": "stdout",
     "output_type": "stream",
     "text": [
      "(7049, 3, 96, 96) (7049, 30)\n"
     ]
    }
   ],
   "source": [
    "with np.load('../input/face-images-with-marked-landmark-points/face_images.npz') as data:\n",
    "    images = data['face_images']\n",
    "df =  pd.read_csv('../input/face-images-with-marked-landmark-points/facial_keypoints.csv')\n",
    "images = np.transpose(images, (2, 0, 1))\n",
    "x = np.repeat(np.expand_dims(images, axis=1), 3, 1)\n",
    "y = df.to_numpy() \n",
    "\n",
    "print(x.shape, y.shape) "
   ]
  },
  {
   "cell_type": "code",
   "execution_count": 4,
   "id": "d27c6a91",
   "metadata": {
    "execution": {
     "iopub.execute_input": "2023-04-20T09:42:40.997605Z",
     "iopub.status.busy": "2023-04-20T09:42:40.995827Z",
     "iopub.status.idle": "2023-04-20T09:42:41.735893Z",
     "shell.execute_reply": "2023-04-20T09:42:41.734686Z"
    },
    "papermill": {
     "duration": 0.750262,
     "end_time": "2023-04-20T09:42:41.738390",
     "exception": false,
     "start_time": "2023-04-20T09:42:40.988128",
     "status": "completed"
    },
    "tags": []
   },
   "outputs": [
    {
     "name": "stdout",
     "output_type": "stream",
     "text": [
      "Before clean:  7049 7049\n"
     ]
    },
    {
     "name": "stderr",
     "output_type": "stream",
     "text": [
      "100%|██████████| 7049/7049 [00:00<00:00, 24359.25it/s]\n",
      "100%|██████████| 7049/7049 [00:00<00:00, 24227.09it/s]\n"
     ]
    },
    {
     "name": "stdout",
     "output_type": "stream",
     "text": [
      "After clean:  2140 2140\n"
     ]
    }
   ],
   "source": [
    "# print(\"Before clean: \", len(x), len(y))\n",
    "# list_remove = []\n",
    "# for i in tqdm(range(len(x))):\n",
    "#     if np.isnan(x[i]).any() or np.isnan(y[i]).any():\n",
    "#         list_remove.append(i)\n",
    "\n",
    "# x_new, y_new = [], []\n",
    "# for i in tqdm(range(len(x))):\n",
    "#     if i not in list_remove:\n",
    "#         x_new.append(x[i])\n",
    "#         y_new.append(y[i])\n",
    "\n",
    "# x = np.asarray(x_new)\n",
    "# y = np.asarray(y_new)\n",
    "\n",
    "# print(\"After clean: \", len(x), len(y))"
   ]
  },
  {
   "cell_type": "code",
   "execution_count": 5,
   "id": "58fc79c3",
   "metadata": {
    "execution": {
     "iopub.execute_input": "2023-04-20T09:42:41.754757Z",
     "iopub.status.busy": "2023-04-20T09:42:41.754458Z",
     "iopub.status.idle": "2023-04-20T09:42:41.762307Z",
     "shell.execute_reply": "2023-04-20T09:42:41.761402Z"
    },
    "papermill": {
     "duration": 0.018293,
     "end_time": "2023-04-20T09:42:41.764386",
     "exception": false,
     "start_time": "2023-04-20T09:42:41.746093",
     "status": "completed"
    },
    "tags": []
   },
   "outputs": [],
   "source": [
    "class FaceDataset(torch.utils.data.Dataset):\n",
    "    def __init__(self,image,label):\n",
    "        self.image = image\n",
    "        self.label = label\n",
    "        \n",
    "    def __len__(self):\n",
    "        return len(self.image)\n",
    "    \n",
    "    def __getitem__(self,idx):\n",
    "        image = ((self.image[idx] / 255.) - 0.5) / 0.225\n",
    "        label = (self.label[idx] / 96.)\n",
    "        \n",
    "        image = torch.as_tensor(image, dtype=torch.float16)\n",
    "        label = torch.as_tensor(label, dtype=torch.float16)\n",
    "        return image,label"
   ]
  },
  {
   "cell_type": "code",
   "execution_count": 6,
   "id": "2234c445",
   "metadata": {
    "execution": {
     "iopub.execute_input": "2023-04-20T09:42:41.781340Z",
     "iopub.status.busy": "2023-04-20T09:42:41.779705Z",
     "iopub.status.idle": "2023-04-20T09:42:41.787170Z",
     "shell.execute_reply": "2023-04-20T09:42:41.786113Z"
    },
    "papermill": {
     "duration": 0.018661,
     "end_time": "2023-04-20T09:42:41.790172",
     "exception": false,
     "start_time": "2023-04-20T09:42:41.771511",
     "status": "completed"
    },
    "tags": []
   },
   "outputs": [
    {
     "name": "stdout",
     "output_type": "stream",
     "text": [
      "train shape (1498, 3, 96, 96) (1498, 30)\n",
      "validate shape (642, 3, 96, 96) (642, 30)\n"
     ]
    }
   ],
   "source": [
    "rate = 0.7\n",
    "x_train, x_val = x[:int(rate * len(x))], x[int(rate * len(x)):]\n",
    "y_train, y_val = y[:int(rate * len(x))], y[int(rate * len(x)):]\n",
    "print(\"train shape\", x_train.shape, y_train.shape)\n",
    "print(\"validate shape\", x_val.shape, y_val.shape)"
   ]
  },
  {
   "cell_type": "code",
   "execution_count": 7,
   "id": "a6b2144f",
   "metadata": {
    "execution": {
     "iopub.execute_input": "2023-04-20T09:42:41.805670Z",
     "iopub.status.busy": "2023-04-20T09:42:41.805373Z",
     "iopub.status.idle": "2023-04-20T09:42:41.809573Z",
     "shell.execute_reply": "2023-04-20T09:42:41.808489Z"
    },
    "papermill": {
     "duration": 0.014507,
     "end_time": "2023-04-20T09:42:41.811996",
     "exception": false,
     "start_time": "2023-04-20T09:42:41.797489",
     "status": "completed"
    },
    "tags": []
   },
   "outputs": [],
   "source": [
    "batch_size = 64"
   ]
  },
  {
   "cell_type": "code",
   "execution_count": 8,
   "id": "2db11df8",
   "metadata": {
    "execution": {
     "iopub.execute_input": "2023-04-20T09:42:41.828044Z",
     "iopub.status.busy": "2023-04-20T09:42:41.827776Z",
     "iopub.status.idle": "2023-04-20T09:42:41.833425Z",
     "shell.execute_reply": "2023-04-20T09:42:41.832436Z"
    },
    "papermill": {
     "duration": 0.01568,
     "end_time": "2023-04-20T09:42:41.835582",
     "exception": false,
     "start_time": "2023-04-20T09:42:41.819902",
     "status": "completed"
    },
    "tags": []
   },
   "outputs": [],
   "source": [
    "train_loader = torch.utils.data.DataLoader(FaceDataset(x_train,y_train),shuffle = True, batch_size = batch_size, num_workers=2, pin_memory=True)\n",
    "val_loader  = torch.utils.data.DataLoader(FaceDataset(x_val,y_val), shuffle = True, batch_size = batch_size, num_workers=2, pin_memory=True)"
   ]
  },
  {
   "cell_type": "code",
   "execution_count": 9,
   "id": "167b05db",
   "metadata": {
    "execution": {
     "iopub.execute_input": "2023-04-20T09:42:41.850838Z",
     "iopub.status.busy": "2023-04-20T09:42:41.850579Z",
     "iopub.status.idle": "2023-04-20T09:42:44.979678Z",
     "shell.execute_reply": "2023-04-20T09:42:44.978493Z"
    },
    "papermill": {
     "duration": 3.139488,
     "end_time": "2023-04-20T09:42:44.982129",
     "exception": false,
     "start_time": "2023-04-20T09:42:41.842641",
     "status": "completed"
    },
    "tags": []
   },
   "outputs": [
    {
     "data": {
      "image/png": "[encoded data removed]",
      "text/plain": [
       "<Figure size 640x480 with 1 Axes>"
      ]
     },
     "metadata": {},
     "output_type": "display_data"
    }
   ],
   "source": [
    "def show_image(x, y, index=0, pred = None):\n",
    "    img = ((x[index] * 0.225) + 0.5) * 255\n",
    "    img = np.transpose(np.asarray(img.cpu(), dtype=np.uint8), (1, 2, 0))\n",
    "    img = cv2.cvtColor(img, cv2.COLOR_BGR2RGB)\n",
    "    for i in range(0,30,2):\n",
    "        x1, y1 = int((y[index][i]) * img.shape[1]), int((y[index][i+1]) * img.shape[0])\n",
    "        cv2.circle(img, (x1, y1), 1, (255, 0, 0), 2)\n",
    "    if pred is not None:\n",
    "        for i in range(0,30,2):\n",
    "            x1, y1 = int((pred[index][i]) * img.shape[1]), int((pred[index][i+1]) * img.shape[0])\n",
    "            cv2.circle(img, (x1, y1), 1, (0, 255, 0), 2)\n",
    "    plt.imshow(img)\n",
    "\n",
    "\n",
    "\n",
    "inputs, classes = next(iter(val_loader))   \n",
    "\n",
    "\n",
    "index = int(random.randint(0, len(inputs)-1))\n",
    "show_image(inputs, classes, index)"
   ]
  },
  {
   "cell_type": "code",
   "execution_count": 10,
   "id": "41fa3cd0",
   "metadata": {
    "execution": {
     "iopub.execute_input": "2023-04-20T09:42:44.999739Z",
     "iopub.status.busy": "2023-04-20T09:42:44.999407Z",
     "iopub.status.idle": "2023-04-20T09:42:45.017000Z",
     "shell.execute_reply": "2023-04-20T09:42:45.015931Z"
    },
    "papermill": {
     "duration": 0.029439,
     "end_time": "2023-04-20T09:42:45.019612",
     "exception": false,
     "start_time": "2023-04-20T09:42:44.990173",
     "status": "completed"
    },
    "tags": []
   },
   "outputs": [],
   "source": [
    "import math\n",
    "import torch.nn as nn\n",
    "\n",
    "class Divine2(nn.Module):\n",
    "    def __init__(self, num_di = 5):\n",
    "        super().__init__()\n",
    "        self.divine = num_di\n",
    "    def forward(self, x):\n",
    "        return x / self.divine\n",
    "\n",
    "class WingLoss(nn.Module):\n",
    "    def __init__(self, omega=10, epsilon=2):\n",
    "        super(WingLoss, self).__init__()\n",
    "        self.omega = omega\n",
    "        self.epsilon = epsilon\n",
    "\n",
    "    def forward(self, pred, target):\n",
    "        y = target\n",
    "        y_hat = pred\n",
    "        delta_y = (y - y_hat).abs()\n",
    "        delta_y1 = delta_y[delta_y < self.omega]\n",
    "        delta_y2 = delta_y[delta_y >= self.omega]\n",
    "        loss1 = self.omega * torch.log(1 + delta_y1 / self.epsilon)\n",
    "        C = self.omega - self.omega * math.log(1 + self.omega / self.epsilon)\n",
    "        loss2 = delta_y2 - C\n",
    "        return (loss1.sum() + loss2.sum()) / (len(loss1) + len(loss2))\n",
    "\n",
    "class AdaptiveWingLoss(nn.Module):\n",
    "    def __init__(self, omega=14, theta=0.5, epsilon=1, alpha=2.1):\n",
    "        super(AdaptiveWingLoss, self).__init__()\n",
    "        self.omega = omega\n",
    "        self.theta = theta\n",
    "        self.epsilon = epsilon\n",
    "        self.alpha = alpha\n",
    " \n",
    "    def forward(self, pred, target):\n",
    "        \n",
    "        y = target\n",
    "        y_hat = pred\n",
    "        delta_y = (y - y_hat).abs()\n",
    "        delta_y1 = delta_y[delta_y < self.theta]\n",
    "        delta_y2 = delta_y[delta_y >= self.theta]\n",
    "        y1 = y[delta_y < self.theta]\n",
    "        y2 = y[delta_y >= self.theta]\n",
    "        loss1 = self.omega * torch.log(1 + torch.pow(delta_y1 / self.omega, self.alpha - y1))\n",
    "        A = self.omega * (1 / (1 + torch.pow(self.theta / self.epsilon, self.alpha - y2))) * (self.alpha - y2) * (\n",
    "            torch.pow(self.theta / self.epsilon, self.alpha - y2 - 1)) * (1 / self.epsilon)\n",
    "        C = self.theta * A - self.omega * torch.log(1 + torch.pow(self.theta / self.epsilon, self.alpha - y2))\n",
    "        loss2 = A * delta_y2 - C\n",
    "        return (loss1.sum() + loss2.sum()) / (len(loss1) + len(loss2))\n",
    "\n",
    "\n",
    "class L2Loss(nn.Module):\n",
    "    def __init__(self, epsilon=1e-5):\n",
    "        super(L2Loss, self).__init__()\n",
    "        self.epsilon = epsilon\n",
    "    def forward(self, pred, target):\n",
    "        return torch.mean(((target - pred) ** 2) + self.epsilon, dim=1).mean() \n",
    "\n",
    "class L1Loss(nn.Module):\n",
    "    def __init__(self, epsilon=1e-5):\n",
    "        super(L1Loss, self).__init__()\n",
    "        self.epsilon = epsilon\n",
    "    def forward(self, pred, target):\n",
    "        return torch.mean(torch.abs_(target - pred) + self.epsilon, dim=1).mean()\n",
    "    \n",
    "\n",
    "def get_lr(optimizer):\n",
    "    for p in optimizer.param_groups:\n",
    "        return p[\"lr\"]\n"
   ]
  },
  {
   "cell_type": "code",
   "execution_count": 11,
   "id": "fa75b06b",
   "metadata": {
    "execution": {
     "iopub.execute_input": "2023-04-20T09:42:45.036106Z",
     "iopub.status.busy": "2023-04-20T09:42:45.035844Z",
     "iopub.status.idle": "2023-04-20T09:42:45.248645Z",
     "shell.execute_reply": "2023-04-20T09:42:45.247672Z"
    },
    "papermill": {
     "duration": 0.223837,
     "end_time": "2023-04-20T09:42:45.251099",
     "exception": false,
     "start_time": "2023-04-20T09:42:45.027262",
     "status": "completed"
    },
    "tags": []
   },
   "outputs": [],
   "source": [
    "from torch.cuda.amp import autocast\n",
    "import torch.optim as optim\n",
    "from torch.cuda import amp\n",
    "from tqdm import tqdm\n",
    "import torchvision\n",
    "import torch.nn.functional as F\n",
    "from torch.cuda.amp import autocast\n",
    "def init_weights(m):\n",
    "    if isinstance(m, nn.Conv2d) or isinstance(m, nn.Conv1d) or isinstance(m, nn.Linear):\n",
    "        torch.nn.init.xavier_uniform_(m.weight)"
   ]
  },
  {
   "cell_type": "code",
   "execution_count": 12,
   "id": "75b613e6",
   "metadata": {
    "execution": {
     "iopub.execute_input": "2023-04-20T09:42:45.268156Z",
     "iopub.status.busy": "2023-04-20T09:42:45.267865Z",
     "iopub.status.idle": "2023-04-20T09:42:45.292700Z",
     "shell.execute_reply": "2023-04-20T09:42:45.291707Z"
    },
    "papermill": {
     "duration": 0.036064,
     "end_time": "2023-04-20T09:42:45.294890",
     "exception": false,
     "start_time": "2023-04-20T09:42:45.258826",
     "status": "completed"
    },
    "tags": []
   },
   "outputs": [],
   "source": [
    "\n",
    "class Bottleneck(nn.Module):\n",
    "    expansion = 4\n",
    "    def __init__(self, in_channels, out_channels, i_downsample=None, stride=1):\n",
    "        super(Bottleneck, self).__init__()\n",
    "        \n",
    "        self.conv1 = nn.Conv2d(in_channels, out_channels, kernel_size=1, stride=1, padding=0)\n",
    "        self.batch_norm1 = nn.BatchNorm2d(out_channels)\n",
    "        \n",
    "        self.conv2 = nn.Conv2d(out_channels, out_channels, kernel_size=3, stride=stride, padding=1)\n",
    "        self.batch_norm2 = nn.BatchNorm2d(out_channels)\n",
    "        \n",
    "        self.conv3 = nn.Conv2d(out_channels, out_channels*self.expansion, kernel_size=1, stride=1, padding=0)\n",
    "        self.batch_norm3 = nn.BatchNorm2d(out_channels*self.expansion)\n",
    "        \n",
    "        self.i_downsample = i_downsample\n",
    "        self.stride = stride\n",
    "        self.gelu = nn.GELU()\n",
    "        \n",
    "    def forward(self, x):\n",
    "        identity = x.clone()\n",
    "        x = self.gelu(self.batch_norm1(self.conv1(x)))\n",
    "        \n",
    "        x = self.gelu(self.batch_norm2(self.conv2(x)))\n",
    "        \n",
    "        x = self.conv3(x)\n",
    "        x = self.batch_norm3(x)\n",
    "        \n",
    "        if self.i_downsample is not None:\n",
    "            identity = self.i_downsample(identity)\n",
    "        x+=identity\n",
    "        x=self.gelu(x)\n",
    "        \n",
    "        return x\n",
    "\n",
    "class Block(nn.Module):\n",
    "    expansion = 1\n",
    "    def __init__(self, in_channels, out_channels, i_downsample=None, stride=1):\n",
    "        super(Block, self).__init__()\n",
    "       \n",
    "\n",
    "        self.conv1 = nn.Conv2d(in_channels, out_channels, kernel_size=3, padding=1, stride=stride, bias=False)\n",
    "        self.batch_norm1 = nn.BatchNorm2d(out_channels)\n",
    "        self.conv2 = nn.Conv2d(out_channels, out_channels, kernel_size=3, padding=1, stride=stride, bias=False)\n",
    "        self.batch_norm2 = nn.BatchNorm2d(out_channels)\n",
    "\n",
    "        self.i_downsample = i_downsample\n",
    "        self.stride = stride\n",
    "        self.gelu = nn.GELU()\n",
    "\n",
    "    def forward(self, x):\n",
    "      identity = x.clone()\n",
    "\n",
    "      x = self.gelu(self.batch_norm2(self.conv1(x)))\n",
    "      x = self.batch_norm2(self.conv2(x))\n",
    "\n",
    "      if self.i_downsample is not None:\n",
    "          identity = self.i_downsample(identity)\n",
    "      print(x.shape)\n",
    "      print(identity.shape)\n",
    "      x += identity\n",
    "      x = self.gelu(x)\n",
    "      return x\n",
    "\n",
    "\n",
    "        \n",
    "        \n",
    "class ResNet(nn.Module):\n",
    "    def __init__(self, ResBlock, layer_list, num_classes, num_channels=3):\n",
    "        super(ResNet, self).__init__()\n",
    "        self.in_channels = 64\n",
    "        \n",
    "        self.conv1 = nn.Conv2d(num_channels, 64, kernel_size=7, stride=2, padding=3, bias=False)\n",
    "        self.batch_norm1 = nn.BatchNorm2d(64)\n",
    "        self.gelu = nn.GELU()\n",
    "        self.max_pool = nn.MaxPool2d(kernel_size = 3, stride=2, padding=1)\n",
    "        \n",
    "        self.layer1 = self._make_layer(ResBlock, layer_list[0], planes=64)\n",
    "        self.layer2 = self._make_layer(ResBlock, layer_list[1], planes=128, stride=2)\n",
    "        self.layer3 = self._make_layer(ResBlock, layer_list[2], planes=256, stride=2)\n",
    "        self.layer4 = self._make_layer(ResBlock, layer_list[3], planes=512, stride=2)\n",
    "        \n",
    "        self.avgpool = nn.AdaptiveAvgPool2d((1,1))\n",
    "        self.fc = nn.Linear(512*ResBlock.expansion, num_classes)\n",
    "    \n",
    "    @autocast()\n",
    "    def forward(self, x):\n",
    "        x = self.gelu(self.batch_norm1(self.conv1(x)))\n",
    "        x = self.max_pool(x)\n",
    "\n",
    "        x = self.layer1(x)\n",
    "        x = self.layer2(x)\n",
    "        x = self.layer3(x)\n",
    "        x = self.layer4(x)\n",
    "        \n",
    "        x = self.avgpool(x)\n",
    "        x = x.reshape(x.shape[0], -1)\n",
    "        x = self.fc(x)\n",
    "        \n",
    "        return x\n",
    "        \n",
    "    def _make_layer(self, ResBlock, blocks, planes, stride=1):\n",
    "        ii_downsample = None\n",
    "        layers = []\n",
    "        \n",
    "        if stride != 1 or self.in_channels != planes*ResBlock.expansion:\n",
    "            ii_downsample = nn.Sequential(\n",
    "                nn.Conv2d(self.in_channels, planes*ResBlock.expansion, kernel_size=1, stride=stride),\n",
    "                nn.BatchNorm2d(planes*ResBlock.expansion)\n",
    "            )\n",
    "            \n",
    "        layers.append(ResBlock(self.in_channels, planes, i_downsample=ii_downsample, stride=stride))\n",
    "        self.in_channels = planes*ResBlock.expansion\n",
    "        \n",
    "        for i in range(blocks-1):\n",
    "            layers.append(ResBlock(self.in_channels, planes))\n",
    "            \n",
    "        return nn.Sequential(*layers)\n",
    "\n",
    "def ResNet18(num_classes, channels=3):\n",
    "    return ResNet(Bottleneck, [2,2,2,2], num_classes, channels).apply(init_weights)\n",
    "  \n",
    "def ResNet50(num_classes, channels=3):\n",
    "    return ResNet(Bottleneck, [3,4,6,3], num_classes, channels).apply(init_weights)\n",
    "    \n",
    "def ResNet101(num_classes, channels=3):\n",
    "    return ResNet(Bottleneck, [3,4,23,3], num_classes, channels).apply(init_weights)\n",
    "\n",
    "def ResNet152(num_classes, channels=3):\n",
    "    return ResNet(Bottleneck, [3,8,36,3], num_classes, channels).apply(init_weights)\n"
   ]
  },
  {
   "cell_type": "code",
   "execution_count": 13,
   "id": "2fa85c4b",
   "metadata": {
    "execution": {
     "iopub.execute_input": "2023-04-20T09:42:45.311527Z",
     "iopub.status.busy": "2023-04-20T09:42:45.311225Z",
     "iopub.status.idle": "2023-04-20T09:42:45.337473Z",
     "shell.execute_reply": "2023-04-20T09:42:45.336589Z"
    },
    "papermill": {
     "duration": 0.037055,
     "end_time": "2023-04-20T09:42:45.339548",
     "exception": false,
     "start_time": "2023-04-20T09:42:45.302493",
     "status": "completed"
    },
    "tags": []
   },
   "outputs": [],
   "source": [
    "def conv_bn(inp, oup, stride):\n",
    "    return nn.Sequential(\n",
    "        nn.Conv2d(inp, oup, 3, stride, 1, bias=False),\n",
    "        nn.BatchNorm2d(oup),\n",
    "        nn.GELU()\n",
    "    )\n",
    "\n",
    "def conv_1x1_bn(inp, oup):\n",
    "    return nn.Sequential(\n",
    "        nn.Conv2d(inp, oup, 1, 1, 0, bias=False),\n",
    "        nn.BatchNorm2d(oup),\n",
    "        nn.GELU()\n",
    "    )\n",
    "\n",
    "def channel_shuffle(x, groups):\n",
    "    batchsize, num_channels, height, width = x.data.size()\n",
    "\n",
    "    channels_per_group = num_channels // groups\n",
    "    \n",
    "    x = x.view(batchsize, groups, \n",
    "        channels_per_group, height, width)\n",
    "    x = torch.transpose(x, 1, 2).contiguous()\n",
    "\n",
    "    x = x.view(batchsize, -1, height, width)\n",
    "\n",
    "    return x\n",
    "    \n",
    "class InvertedResidual(nn.Module):\n",
    "    def __init__(self, inp, oup, stride, benchmodel):\n",
    "        super(InvertedResidual, self).__init__()\n",
    "        self.benchmodel = benchmodel\n",
    "        self.stride = stride\n",
    "        assert stride in [1, 2]\n",
    "\n",
    "        oup_inc = oup//2\n",
    "        \n",
    "        if self.benchmodel == 1:\n",
    "            self.banch2 = nn.Sequential(\n",
    "                nn.Conv2d(oup_inc, oup_inc, 1, 1, 0, bias=False),\n",
    "                nn.BatchNorm2d(oup_inc),\n",
    "                nn.GELU(),\n",
    "                nn.Conv2d(oup_inc, oup_inc, 3, stride, 1, groups=oup_inc, bias=False),\n",
    "                nn.BatchNorm2d(oup_inc),\n",
    "                \n",
    "                nn.Conv2d(oup_inc, oup_inc, 1, 1, 0, bias=False),\n",
    "                nn.BatchNorm2d(oup_inc),\n",
    "                nn.GELU()\n",
    "            )\n",
    "        else:\n",
    "            self.banch1 = nn.Sequential(\n",
    "                nn.Conv2d(inp, inp, 3, stride, 1, groups=inp, bias=False),\n",
    "                nn.BatchNorm2d(inp),\n",
    "                nn.Conv2d(inp, oup_inc, 1, 1, 0, bias=False),\n",
    "                nn.BatchNorm2d(oup_inc),\n",
    "                nn.GELU()\n",
    "            )        \n",
    "    \n",
    "            self.banch2 = nn.Sequential(\n",
    "                nn.Conv2d(inp, oup_inc, 1, 1, 0, bias=False),\n",
    "                nn.BatchNorm2d(oup_inc),\n",
    "                nn.GELU(),\n",
    "                nn.Conv2d(oup_inc, oup_inc, 3, stride, 1, groups=oup_inc, bias=False),\n",
    "                nn.BatchNorm2d(oup_inc),\n",
    "                nn.Conv2d(oup_inc, oup_inc, 1, 1, 0, bias=False),\n",
    "                nn.BatchNorm2d(oup_inc),\n",
    "                nn.GELU(),\n",
    "            )\n",
    "          \n",
    "    @staticmethod\n",
    "    def _concat(x, out):\n",
    "        return torch.cat((x, out), 1)        \n",
    "\n",
    "    def forward(self, x):\n",
    "        if 1==self.benchmodel:\n",
    "            x1 = x[:, :(x.shape[1]//2), :, :]\n",
    "            x2 = x[:, (x.shape[1]//2):, :, :]\n",
    "            out = self._concat(x1, self.banch2(x2))\n",
    "        elif 2==self.benchmodel:\n",
    "            out = self._concat(self.banch1(x), self.banch2(x))\n",
    "\n",
    "        return channel_shuffle(out, 2)\n",
    "\n",
    "def init_weights(m):\n",
    "    if isinstance(m, nn.Conv2d) or isinstance(m, nn.Conv1d) or isinstance(m, nn.Linear):\n",
    "        torch.nn.init.xavier_uniform(m.weight)\n",
    "\n",
    "class ShuffleNetV2(nn.Module):\n",
    "    def __init__(self, n_class=1000, input_size=224, width_mult=1.):\n",
    "        super(ShuffleNetV2, self).__init__()\n",
    "        \n",
    "        assert input_size % 32 == 0\n",
    "        \n",
    "        self.stage_repeats = [4, 8, 4]\n",
    "        if width_mult == 0.5:\n",
    "            self.stage_out_channels = [-1, 24,  48,  96, 192, 1024]\n",
    "        elif width_mult == 1.0:\n",
    "            self.stage_out_channels = [-1, 24, 116, 232, 464, 1024]\n",
    "        elif width_mult == 1.5:\n",
    "            self.stage_out_channels = [-1, 24, 176, 352, 704, 1024]\n",
    "        elif width_mult == 2.0:\n",
    "            self.stage_out_channels = [-1, 24, 224, 488, 976, 2048]\n",
    "        else:\n",
    "            raise ValueError(\n",
    "                \"\"\"{} groups is not supported for\n",
    "                       1x1 Grouped Convolutions\"\"\".format(num_groups))\n",
    "\n",
    "        # building first layer\n",
    "        input_channel = self.stage_out_channels[1]\n",
    "        self.conv1 = conv_bn(3, input_channel, 2)\n",
    "        # init.xavier_normal_(self.conv1.weight)\n",
    "        self.maxpool = nn.MaxPool2d(kernel_size=3, stride=2, padding=1)\n",
    "        \n",
    "        self.features = []\n",
    "        for idxstage in range(len(self.stage_repeats)):\n",
    "            numrepeat = self.stage_repeats[idxstage]\n",
    "            output_channel = self.stage_out_channels[idxstage+2]\n",
    "            for i in range(numrepeat):\n",
    "                if i == 0:\n",
    "                    self.features.append(InvertedResidual(input_channel, output_channel, 2, 2))\n",
    "                else:\n",
    "                    self.features.append(InvertedResidual(input_channel, output_channel, 1, 1))\n",
    "                input_channel = output_channel\n",
    "                \n",
    "        self.features = nn.Sequential(*self.features)\n",
    "\n",
    "        self.conv_last = conv_1x1_bn(input_channel, self.stage_out_channels[-1])\n",
    "        self.globalpool = nn.Sequential(nn.AvgPool2d(int(input_size/32)))              \n",
    "\n",
    "        self.classifier = nn.Sequential(nn.Linear(self.stage_out_channels[-1], n_class))\n",
    "        \n",
    "        init_weights(self.classifier)\n",
    "        init_weights(self.conv1)\n",
    "        init_weights(self.conv_last) \n",
    "        init_weights(self.features)\n",
    "        \n",
    "    @autocast()\n",
    "    def forward(self, x):\n",
    "        x = self.conv1(x)\n",
    "        x = self.maxpool(x)\n",
    "        x = self.features(x)\n",
    "        x = self.conv_last(x)\n",
    "        x = self.globalpool(x)\n",
    "        x = x.view(-1, self.stage_out_channels[-1])\n",
    "        x = self.classifier(x)\n",
    "        return x\n",
    "\n"
   ]
  },
  {
   "cell_type": "code",
   "execution_count": 14,
   "id": "98ab9163",
   "metadata": {
    "execution": {
     "iopub.execute_input": "2023-04-20T09:42:45.355804Z",
     "iopub.status.busy": "2023-04-20T09:42:45.355539Z",
     "iopub.status.idle": "2023-04-20T09:42:45.360823Z",
     "shell.execute_reply": "2023-04-20T09:42:45.359958Z"
    },
    "papermill": {
     "duration": 0.015916,
     "end_time": "2023-04-20T09:42:45.362996",
     "exception": false,
     "start_time": "2023-04-20T09:42:45.347080",
     "status": "completed"
    },
    "tags": []
   },
   "outputs": [],
   "source": [
    "epochs = 100\n",
    "lr=1e-02\n",
    "momentum=0.9\n",
    "weight_decay=0.0005"
   ]
  },
  {
   "cell_type": "code",
   "execution_count": 15,
   "id": "e2d2c7a8",
   "metadata": {
    "execution": {
     "iopub.execute_input": "2023-04-20T09:42:45.379122Z",
     "iopub.status.busy": "2023-04-20T09:42:45.378861Z",
     "iopub.status.idle": "2023-04-20T09:42:45.392201Z",
     "shell.execute_reply": "2023-04-20T09:42:45.391316Z"
    },
    "papermill": {
     "duration": 0.023746,
     "end_time": "2023-04-20T09:42:45.394203",
     "exception": false,
     "start_time": "2023-04-20T09:42:45.370457",
     "status": "completed"
    },
    "tags": []
   },
   "outputs": [],
   "source": [
    "def train(l_m, save_file=\"best_shufflenet_v2_wingl.pt\"):\n",
    "    funtion_l_l1 = L1Loss(0.) \n",
    "    opt = optim.SGD(models.parameters(), lr=lr, momentum=momentum, weight_decay=weight_decay)\n",
    "    scheduler = torch.optim.lr_scheduler.ExponentialLR(opt, gamma=0.5)\n",
    "    best_loss_val, best_loss_val_epoch = float('inf'), 0\n",
    "    models.to(device)\n",
    "    his_loss_train, his_loss_val = [], []\n",
    "    for epoch in range(1, epochs + 1):\n",
    "        total_train, total_val, running_loss, loss_val = 0, 0, 0.0, 0.0\n",
    "        models.train()\n",
    "        for inputs, labels in train_loader:\n",
    "            inputs, labels = inputs.to(device, non_blocking=True), labels.to(device, non_blocking=True)\n",
    "            ## forward\n",
    "            outputs_model = models(inputs)\n",
    "            ## loss\n",
    "            loss = l_m(outputs_model, labels)\n",
    "\n",
    "            opt.zero_grad()\n",
    "            loss.backward()\n",
    "            opt.step()\n",
    "            running_loss += loss.item()\n",
    "            total_train += len(inputs)\n",
    "        running_loss = (running_loss/total_train) * 100\n",
    "        his_loss_train.append(running_loss)\n",
    "        loss_val = 0.0\n",
    "        with torch.no_grad():\n",
    "\n",
    "            models.eval()\n",
    "            for inputs, labels in val_loader:\n",
    "                inputs, labels = inputs.to(device, non_blocking=True), labels.to(device, non_blocking=True)\n",
    "                outputs_model = models(inputs)\n",
    "                l_val = funtion_l_l1(outputs_model, labels)\n",
    "                loss_val += l_val.item()\n",
    "                total_val += len(inputs)\n",
    "            loss_val = (loss_val/total_val) * 100\n",
    "            if loss_val < best_loss_val:\n",
    "                best_loss_val = loss_val\n",
    "                torch.save(models.state_dict(), save_file)\n",
    "\n",
    "        his_loss_val.append(loss_val)\n",
    "        print(\"At epoch \"+ str(epoch)+\"/\"+str(epochs)+\". Total training loss: \", format(running_loss, '.6f'),  \" current loss: \", format(loss_val, '.6f'), \" learning rate\", get_lr(opt), \"current best validate loss: \", format(best_loss_val, '.6f'))\n",
    "        ## update learning rate \n",
    "        if epoch % 10 == 0 and float(get_lr(opt)) > 1e-05:\n",
    "            scheduler.step()\n",
    "    plt.clf()\n",
    "    plt.plot(his_loss_train)\n",
    "    plt.plot(his_loss_val)\n",
    "    plt.xlabel(\"Epoch\")\n",
    "    plt.ylabel(\"Loss\")\n",
    "    plt.suptitle(\"Loss/Epoch\")\n",
    "    plt.legend([\"Train\",\"Test\"])\n",
    "    plt.figure()\n",
    "    plt.savefig(save_file+\".png\")\n",
    "    with open(save_file.split(\".\")[0], \"wb\") as fp:\n",
    "        pickle.dump(his_loss_val, fp)\n",
    "        "
   ]
  },
  {
   "cell_type": "code",
   "execution_count": 16,
   "id": "bdb26f46",
   "metadata": {
    "execution": {
     "iopub.execute_input": "2023-04-20T09:42:45.410869Z",
     "iopub.status.busy": "2023-04-20T09:42:45.410083Z",
     "iopub.status.idle": "2023-04-20T09:45:17.489124Z",
     "shell.execute_reply": "2023-04-20T09:45:17.487904Z"
    },
    "papermill": {
     "duration": 152.089473,
     "end_time": "2023-04-20T09:45:17.491294",
     "exception": false,
     "start_time": "2023-04-20T09:42:45.401821",
     "status": "completed"
    },
    "tags": []
   },
   "outputs": [
    {
     "name": "stdout",
     "output_type": "stream",
     "text": [
      "At epoch 1/100. Total training loss:  0.677346  current loss:  0.260074  learning rate 0.01 current best validate loss:  0.260074\n",
      "At epoch 2/100. Total training loss:  0.029922  current loss:  0.180814  learning rate 0.01 current best validate loss:  0.180814\n",
      "At epoch 3/100. Total training loss:  0.011380  current loss:  0.147426  learning rate 0.01 current best validate loss:  0.147426\n",
      "At epoch 4/100. Total training loss:  0.009731  current loss:  0.150677  learning rate 0.01 current best validate loss:  0.147426\n",
      "At epoch 5/100. Total training loss:  0.008886  current loss:  0.144935  learning rate 0.01 current best validate loss:  0.144935\n",
      "At epoch 6/100. Total training loss:  0.008548  current loss:  0.143585  learning rate 0.01 current best validate loss:  0.143585\n",
      "At epoch 7/100. Total training loss:  0.008237  current loss:  0.139639  learning rate 0.01 current best validate loss:  0.139639\n",
      "At epoch 8/100. Total training loss:  0.007852  current loss:  0.135932  learning rate 0.01 current best validate loss:  0.135932\n",
      "At epoch 9/100. Total training loss:  0.007397  current loss:  0.135475  learning rate 0.01 current best validate loss:  0.135475\n",
      "At epoch 10/100. Total training loss:  0.007366  current loss:  0.133945  learning rate 0.01 current best validate loss:  0.133945\n",
      "At epoch 11/100. Total training loss:  0.006974  current loss:  0.136454  learning rate 0.005 current best validate loss:  0.133945\n",
      "At epoch 12/100. Total training loss:  0.006726  current loss:  0.134477  learning rate 0.005 current best validate loss:  0.133945\n",
      "At epoch 13/100. Total training loss:  0.006824  current loss:  0.137776  learning rate 0.005 current best validate loss:  0.133945\n",
      "At epoch 14/100. Total training loss:  0.006745  current loss:  0.133697  learning rate 0.005 current best validate loss:  0.133697\n",
      "At epoch 15/100. Total training loss:  0.006421  current loss:  0.132100  learning rate 0.005 current best validate loss:  0.132100\n",
      "At epoch 16/100. Total training loss:  0.006491  current loss:  0.131102  learning rate 0.005 current best validate loss:  0.131102\n",
      "At epoch 17/100. Total training loss:  0.006176  current loss:  0.132794  learning rate 0.005 current best validate loss:  0.131102\n",
      "At epoch 18/100. Total training loss:  0.006165  current loss:  0.132100  learning rate 0.005 current best validate loss:  0.131102\n",
      "At epoch 19/100. Total training loss:  0.006119  current loss:  0.132737  learning rate 0.005 current best validate loss:  0.131102\n",
      "At epoch 20/100. Total training loss:  0.006029  current loss:  0.130902  learning rate 0.005 current best validate loss:  0.130902\n",
      "At epoch 21/100. Total training loss:  0.005853  current loss:  0.134791  learning rate 0.0025 current best validate loss:  0.130902\n",
      "At epoch 22/100. Total training loss:  0.005705  current loss:  0.130684  learning rate 0.0025 current best validate loss:  0.130684\n",
      "At epoch 23/100. Total training loss:  0.005830  current loss:  0.133222  learning rate 0.0025 current best validate loss:  0.130684\n",
      "At epoch 24/100. Total training loss:  0.005803  current loss:  0.130170  learning rate 0.0025 current best validate loss:  0.130170\n",
      "At epoch 25/100. Total training loss:  0.005700  current loss:  0.130066  learning rate 0.0025 current best validate loss:  0.130066\n",
      "At epoch 26/100. Total training loss:  0.005730  current loss:  0.129819  learning rate 0.0025 current best validate loss:  0.129819\n",
      "At epoch 27/100. Total training loss:  0.005632  current loss:  0.127123  learning rate 0.0025 current best validate loss:  0.127123\n",
      "At epoch 28/100. Total training loss:  0.005515  current loss:  0.129619  learning rate 0.0025 current best validate loss:  0.127123\n",
      "At epoch 29/100. Total training loss:  0.005482  current loss:  0.128259  learning rate 0.0025 current best validate loss:  0.127123\n",
      "At epoch 30/100. Total training loss:  0.005412  current loss:  0.128868  learning rate 0.0025 current best validate loss:  0.127123\n",
      "At epoch 31/100. Total training loss:  0.005460  current loss:  0.127423  learning rate 0.00125 current best validate loss:  0.127123\n",
      "At epoch 32/100. Total training loss:  0.005421  current loss:  0.129020  learning rate 0.00125 current best validate loss:  0.127123\n",
      "At epoch 33/100. Total training loss:  0.005463  current loss:  0.130379  learning rate 0.00125 current best validate loss:  0.127123\n",
      "At epoch 34/100. Total training loss:  0.005297  current loss:  0.130817  learning rate 0.00125 current best validate loss:  0.127123\n",
      "At epoch 35/100. Total training loss:  0.005332  current loss:  0.126215  learning rate 0.00125 current best validate loss:  0.126215\n",
      "At epoch 36/100. Total training loss:  0.005400  current loss:  0.128554  learning rate 0.00125 current best validate loss:  0.126215\n",
      "At epoch 37/100. Total training loss:  0.005351  current loss:  0.124613  learning rate 0.00125 current best validate loss:  0.124613\n",
      "At epoch 38/100. Total training loss:  0.005354  current loss:  0.127603  learning rate 0.00125 current best validate loss:  0.124613\n",
      "At epoch 39/100. Total training loss:  0.005373  current loss:  0.128098  learning rate 0.00125 current best validate loss:  0.124613\n",
      "At epoch 40/100. Total training loss:  0.005342  current loss:  0.126586  learning rate 0.00125 current best validate loss:  0.124613\n",
      "At epoch 41/100. Total training loss:  0.005271  current loss:  0.128469  learning rate 0.000625 current best validate loss:  0.124613\n",
      "At epoch 42/100. Total training loss:  0.005244  current loss:  0.127014  learning rate 0.000625 current best validate loss:  0.124613\n",
      "At epoch 43/100. Total training loss:  0.005333  current loss:  0.127917  learning rate 0.000625 current best validate loss:  0.124613\n",
      "At epoch 44/100. Total training loss:  0.005363  current loss:  0.127870  learning rate 0.000625 current best validate loss:  0.124613\n",
      "At epoch 45/100. Total training loss:  0.005095  current loss:  0.129248  learning rate 0.000625 current best validate loss:  0.124613\n",
      "At epoch 46/100. Total training loss:  0.005109  current loss:  0.129571  learning rate 0.000625 current best validate loss:  0.124613\n",
      "At epoch 47/100. Total training loss:  0.005449  current loss:  0.125027  learning rate 0.000625 current best validate loss:  0.124613\n",
      "At epoch 48/100. Total training loss:  0.005282  current loss:  0.127622  learning rate 0.000625 current best validate loss:  0.124613\n",
      "At epoch 49/100. Total training loss:  0.005306  current loss:  0.127052  learning rate 0.000625 current best validate loss:  0.124613\n",
      "At epoch 50/100. Total training loss:  0.005002  current loss:  0.127575  learning rate 0.000625 current best validate loss:  0.124613\n",
      "At epoch 51/100. Total training loss:  0.005066  current loss:  0.128925  learning rate 0.0003125 current best validate loss:  0.124613\n",
      "At epoch 52/100. Total training loss:  0.005098  current loss:  0.124623  learning rate 0.0003125 current best validate loss:  0.124613\n",
      "At epoch 53/100. Total training loss:  0.005066  current loss:  0.127870  learning rate 0.0003125 current best validate loss:  0.124613\n",
      "At epoch 54/100. Total training loss:  0.005322  current loss:  0.127822  learning rate 0.0003125 current best validate loss:  0.124613\n",
      "At epoch 55/100. Total training loss:  0.005181  current loss:  0.128145  learning rate 0.0003125 current best validate loss:  0.124613\n",
      "At epoch 56/100. Total training loss:  0.005201  current loss:  0.127689  learning rate 0.0003125 current best validate loss:  0.124613\n",
      "At epoch 57/100. Total training loss:  0.005166  current loss:  0.126491  learning rate 0.0003125 current best validate loss:  0.124613\n",
      "At epoch 58/100. Total training loss:  0.005152  current loss:  0.128583  learning rate 0.0003125 current best validate loss:  0.124613\n",
      "At epoch 59/100. Total training loss:  0.005064  current loss:  0.129914  learning rate 0.0003125 current best validate loss:  0.124613\n",
      "At epoch 60/100. Total training loss:  0.005188  current loss:  0.125702  learning rate 0.0003125 current best validate loss:  0.124613\n",
      "At epoch 61/100. Total training loss:  0.005201  current loss:  0.127936  learning rate 0.00015625 current best validate loss:  0.124613\n",
      "At epoch 62/100. Total training loss:  0.005049  current loss:  0.125692  learning rate 0.00015625 current best validate loss:  0.124613\n",
      "At epoch 63/100. Total training loss:  0.005119  current loss:  0.125502  learning rate 0.00015625 current best validate loss:  0.124613\n",
      "At epoch 64/100. Total training loss:  0.005151  current loss:  0.128269  learning rate 0.00015625 current best validate loss:  0.124613\n",
      "At epoch 65/100. Total training loss:  0.005144  current loss:  0.126187  learning rate 0.00015625 current best validate loss:  0.124613\n",
      "At epoch 66/100. Total training loss:  0.005367  current loss:  0.127042  learning rate 0.00015625 current best validate loss:  0.124613\n",
      "At epoch 67/100. Total training loss:  0.005152  current loss:  0.127603  learning rate 0.00015625 current best validate loss:  0.124613\n",
      "At epoch 68/100. Total training loss:  0.005129  current loss:  0.125170  learning rate 0.00015625 current best validate loss:  0.124613\n",
      "At epoch 69/100. Total training loss:  0.005034  current loss:  0.127242  learning rate 0.00015625 current best validate loss:  0.124613\n",
      "At epoch 70/100. Total training loss:  0.005027  current loss:  0.128450  learning rate 0.00015625 current best validate loss:  0.124613\n",
      "At epoch 71/100. Total training loss:  0.004986  current loss:  0.122836  learning rate 7.8125e-05 current best validate loss:  0.122836\n",
      "At epoch 72/100. Total training loss:  0.005316  current loss:  0.127023  learning rate 7.8125e-05 current best validate loss:  0.122836\n",
      "At epoch 73/100. Total training loss:  0.005029  current loss:  0.128392  learning rate 7.8125e-05 current best validate loss:  0.122836\n",
      "At epoch 74/100. Total training loss:  0.005098  current loss:  0.125550  learning rate 7.8125e-05 current best validate loss:  0.122836\n",
      "At epoch 75/100. Total training loss:  0.004989  current loss:  0.126529  learning rate 7.8125e-05 current best validate loss:  0.122836\n",
      "At epoch 76/100. Total training loss:  0.005054  current loss:  0.125997  learning rate 7.8125e-05 current best validate loss:  0.122836\n",
      "At epoch 77/100. Total training loss:  0.005136  current loss:  0.124818  learning rate 7.8125e-05 current best validate loss:  0.122836\n",
      "At epoch 78/100. Total training loss:  0.005148  current loss:  0.127423  learning rate 7.8125e-05 current best validate loss:  0.122836\n",
      "At epoch 79/100. Total training loss:  0.005120  current loss:  0.124694  learning rate 7.8125e-05 current best validate loss:  0.122836\n",
      "At epoch 80/100. Total training loss:  0.005044  current loss:  0.129600  learning rate 7.8125e-05 current best validate loss:  0.122836\n",
      "At epoch 81/100. Total training loss:  0.004917  current loss:  0.126890  learning rate 3.90625e-05 current best validate loss:  0.122836\n",
      "At epoch 82/100. Total training loss:  0.005047  current loss:  0.125407  learning rate 3.90625e-05 current best validate loss:  0.122836\n",
      "At epoch 83/100. Total training loss:  0.005143  current loss:  0.127004  learning rate 3.90625e-05 current best validate loss:  0.122836\n",
      "At epoch 84/100. Total training loss:  0.005185  current loss:  0.127081  learning rate 3.90625e-05 current best validate loss:  0.122836\n",
      "At epoch 85/100. Total training loss:  0.005075  current loss:  0.128069  learning rate 3.90625e-05 current best validate loss:  0.122836\n",
      "At epoch 86/100. Total training loss:  0.005132  current loss:  0.125027  learning rate 3.90625e-05 current best validate loss:  0.122836\n",
      "At epoch 87/100. Total training loss:  0.005139  current loss:  0.126871  learning rate 3.90625e-05 current best validate loss:  0.122836\n",
      "At epoch 88/100. Total training loss:  0.005015  current loss:  0.125835  learning rate 3.90625e-05 current best validate loss:  0.122836\n",
      "At epoch 89/100. Total training loss:  0.005215  current loss:  0.125826  learning rate 3.90625e-05 current best validate loss:  0.122836\n",
      "At epoch 90/100. Total training loss:  0.005025  current loss:  0.125873  learning rate 3.90625e-05 current best validate loss:  0.122836\n",
      "At epoch 91/100. Total training loss:  0.005092  current loss:  0.126434  learning rate 1.953125e-05 current best validate loss:  0.122836\n",
      "At epoch 92/100. Total training loss:  0.004765  current loss:  0.126415  learning rate 1.953125e-05 current best validate loss:  0.122836\n",
      "At epoch 93/100. Total training loss:  0.005089  current loss:  0.125864  learning rate 1.953125e-05 current best validate loss:  0.122836\n",
      "At epoch 94/100. Total training loss:  0.005069  current loss:  0.125265  learning rate 1.953125e-05 current best validate loss:  0.122836\n",
      "At epoch 95/100. Total training loss:  0.005188  current loss:  0.126320  learning rate 1.953125e-05 current best validate loss:  0.122836\n",
      "At epoch 96/100. Total training loss:  0.005064  current loss:  0.127451  learning rate 1.953125e-05 current best validate loss:  0.122836\n",
      "At epoch 97/100. Total training loss:  0.005248  current loss:  0.128003  learning rate 1.953125e-05 current best validate loss:  0.122836\n",
      "At epoch 98/100. Total training loss:  0.004895  current loss:  0.126215  learning rate 1.953125e-05 current best validate loss:  0.122836\n",
      "At epoch 99/100. Total training loss:  0.005080  current loss:  0.128012  learning rate 1.953125e-05 current best validate loss:  0.122836\n",
      "At epoch 100/100. Total training loss:  0.005086  current loss:  0.126577  learning rate 1.953125e-05 current best validate loss:  0.122836\n"
     ]
    },
    {
     "data": {
      "image/png": "[encoded data removed]",
      "text/plain": [
       "<Figure size 640x480 with 1 Axes>"
      ]
     },
     "metadata": {},
     "output_type": "display_data"
    },
    {
     "data": {
      "text/plain": [
       "<Figure size 640x480 with 0 Axes>"
      ]
     },
     "metadata": {},
     "output_type": "display_data"
    }
   ],
   "source": [
    "models = ShuffleNetV2(n_class=30, input_size=96, width_mult=0.5)\n",
    "l_m = AdaptiveWingLoss()\n",
    "train(l_m, \"best_shufflenet_v2_awingl.pt\")"
   ]
  },
  {
   "cell_type": "code",
   "execution_count": 17,
   "id": "ef8d7d33",
   "metadata": {
    "execution": {
     "iopub.execute_input": "2023-04-20T09:45:17.519222Z",
     "iopub.status.busy": "2023-04-20T09:45:17.518926Z",
     "iopub.status.idle": "2023-04-20T09:47:45.142555Z",
     "shell.execute_reply": "2023-04-20T09:47:45.141475Z"
    },
    "papermill": {
     "duration": 147.640158,
     "end_time": "2023-04-20T09:47:45.144944",
     "exception": false,
     "start_time": "2023-04-20T09:45:17.504786",
     "status": "completed"
    },
    "tags": []
   },
   "outputs": [
    {
     "name": "stdout",
     "output_type": "stream",
     "text": [
      "At epoch 1/100. Total training loss:  5.070432  current loss:  0.133165  learning rate 0.01 current best validate loss:  0.133165\n",
      "At epoch 2/100. Total training loss:  2.218844  current loss:  0.851564  learning rate 0.01 current best validate loss:  0.133165\n",
      "At epoch 3/100. Total training loss:  2.358451  current loss:  0.752910  learning rate 0.01 current best validate loss:  0.133165\n",
      "At epoch 4/100. Total training loss:  2.308286  current loss:  0.693381  learning rate 0.01 current best validate loss:  0.133165\n",
      "At epoch 5/100. Total training loss:  1.820754  current loss:  0.086714  learning rate 0.01 current best validate loss:  0.086714\n",
      "At epoch 6/100. Total training loss:  1.267445  current loss:  0.096111  learning rate 0.01 current best validate loss:  0.086714\n",
      "At epoch 7/100. Total training loss:  1.022098  current loss:  0.054390  learning rate 0.01 current best validate loss:  0.054390\n",
      "At epoch 8/100. Total training loss:  0.771797  current loss:  0.295697  learning rate 0.01 current best validate loss:  0.054390\n",
      "At epoch 9/100. Total training loss:  0.655936  current loss:  0.058685  learning rate 0.01 current best validate loss:  0.054390\n",
      "At epoch 10/100. Total training loss:  0.656099  current loss:  0.198649  learning rate 0.01 current best validate loss:  0.054390\n",
      "At epoch 11/100. Total training loss:  0.582385  current loss:  0.065325  learning rate 0.005 current best validate loss:  0.054390\n",
      "At epoch 12/100. Total training loss:  0.523273  current loss:  0.056429  learning rate 0.005 current best validate loss:  0.054390\n",
      "At epoch 13/100. Total training loss:  0.487597  current loss:  0.057137  learning rate 0.005 current best validate loss:  0.054390\n",
      "At epoch 14/100. Total training loss:  0.443984  current loss:  0.058777  learning rate 0.005 current best validate loss:  0.054390\n",
      "At epoch 15/100. Total training loss:  0.436234  current loss:  0.057482  learning rate 0.005 current best validate loss:  0.054390\n",
      "At epoch 16/100. Total training loss:  0.418853  current loss:  0.056816  learning rate 0.005 current best validate loss:  0.054390\n",
      "At epoch 17/100. Total training loss:  0.404747  current loss:  0.056605  learning rate 0.005 current best validate loss:  0.054390\n",
      "At epoch 18/100. Total training loss:  0.403117  current loss:  0.055642  learning rate 0.005 current best validate loss:  0.054390\n",
      "At epoch 19/100. Total training loss:  0.388547  current loss:  0.053558  learning rate 0.005 current best validate loss:  0.053558\n",
      "At epoch 20/100. Total training loss:  0.370538  current loss:  0.058808  learning rate 0.005 current best validate loss:  0.053558\n",
      "At epoch 21/100. Total training loss:  0.350769  current loss:  0.057401  learning rate 0.0025 current best validate loss:  0.053558\n",
      "At epoch 22/100. Total training loss:  0.338366  current loss:  0.056037  learning rate 0.0025 current best validate loss:  0.053558\n",
      "At epoch 23/100. Total training loss:  0.335221  current loss:  0.052999  learning rate 0.0025 current best validate loss:  0.052999\n",
      "At epoch 24/100. Total training loss:  0.337706  current loss:  0.060759  learning rate 0.0025 current best validate loss:  0.052999\n",
      "At epoch 25/100. Total training loss:  0.328262  current loss:  0.054651  learning rate 0.0025 current best validate loss:  0.052999\n",
      "At epoch 26/100. Total training loss:  0.323877  current loss:  0.057415  learning rate 0.0025 current best validate loss:  0.052999\n",
      "At epoch 27/100. Total training loss:  0.323682  current loss:  0.054720  learning rate 0.0025 current best validate loss:  0.052999\n",
      "At epoch 28/100. Total training loss:  0.316731  current loss:  0.056797  learning rate 0.0025 current best validate loss:  0.052999\n",
      "At epoch 29/100. Total training loss:  0.313341  current loss:  0.051975  learning rate 0.0025 current best validate loss:  0.051975\n",
      "At epoch 30/100. Total training loss:  0.314172  current loss:  0.055607  learning rate 0.0025 current best validate loss:  0.051975\n",
      "At epoch 31/100. Total training loss:  0.296204  current loss:  0.057518  learning rate 0.00125 current best validate loss:  0.051975\n",
      "At epoch 32/100. Total training loss:  0.286890  current loss:  0.053313  learning rate 0.00125 current best validate loss:  0.051975\n",
      "At epoch 33/100. Total training loss:  0.289563  current loss:  0.055621  learning rate 0.00125 current best validate loss:  0.051975\n",
      "At epoch 34/100. Total training loss:  0.289302  current loss:  0.053636  learning rate 0.00125 current best validate loss:  0.051975\n",
      "At epoch 35/100. Total training loss:  0.288593  current loss:  0.054794  learning rate 0.00125 current best validate loss:  0.051975\n",
      "At epoch 36/100. Total training loss:  0.288365  current loss:  0.053315  learning rate 0.00125 current best validate loss:  0.051975\n",
      "At epoch 37/100. Total training loss:  0.279784  current loss:  0.053189  learning rate 0.00125 current best validate loss:  0.051975\n",
      "At epoch 38/100. Total training loss:  0.276818  current loss:  0.051946  learning rate 0.00125 current best validate loss:  0.051946\n",
      "At epoch 39/100. Total training loss:  0.290084  current loss:  0.055647  learning rate 0.00125 current best validate loss:  0.051946\n",
      "At epoch 40/100. Total training loss:  0.285553  current loss:  0.056289  learning rate 0.00125 current best validate loss:  0.051946\n",
      "At epoch 41/100. Total training loss:  0.278822  current loss:  0.053009  learning rate 0.000625 current best validate loss:  0.051946\n",
      "At epoch 42/100. Total training loss:  0.275506  current loss:  0.053441  learning rate 0.000625 current best validate loss:  0.051946\n",
      "At epoch 43/100. Total training loss:  0.276345  current loss:  0.054454  learning rate 0.000625 current best validate loss:  0.051946\n",
      "At epoch 44/100. Total training loss:  0.272580  current loss:  0.054278  learning rate 0.000625 current best validate loss:  0.051946\n",
      "At epoch 45/100. Total training loss:  0.266444  current loss:  0.053624  learning rate 0.000625 current best validate loss:  0.051946\n",
      "At epoch 46/100. Total training loss:  0.268718  current loss:  0.052460  learning rate 0.000625 current best validate loss:  0.051946\n",
      "At epoch 47/100. Total training loss:  0.266656  current loss:  0.052911  learning rate 0.000625 current best validate loss:  0.051946\n",
      "At epoch 48/100. Total training loss:  0.268856  current loss:  0.052025  learning rate 0.000625 current best validate loss:  0.051946\n",
      "At epoch 49/100. Total training loss:  0.266990  current loss:  0.052562  learning rate 0.000625 current best validate loss:  0.051946\n",
      "At epoch 50/100. Total training loss:  0.274691  current loss:  0.053746  learning rate 0.000625 current best validate loss:  0.051946\n",
      "At epoch 51/100. Total training loss:  0.266346  current loss:  0.051744  learning rate 0.0003125 current best validate loss:  0.051744\n",
      "At epoch 52/100. Total training loss:  0.261644  current loss:  0.055870  learning rate 0.0003125 current best validate loss:  0.051744\n",
      "At epoch 53/100. Total training loss:  0.265393  current loss:  0.054948  learning rate 0.0003125 current best validate loss:  0.051744\n",
      "At epoch 54/100. Total training loss:  0.265450  current loss:  0.055300  learning rate 0.0003125 current best validate loss:  0.051744\n",
      "At epoch 55/100. Total training loss:  0.265947  current loss:  0.054587  learning rate 0.0003125 current best validate loss:  0.051744\n",
      "At epoch 56/100. Total training loss:  0.266566  current loss:  0.053128  learning rate 0.0003125 current best validate loss:  0.051744\n",
      "At epoch 57/100. Total training loss:  0.261979  current loss:  0.052003  learning rate 0.0003125 current best validate loss:  0.051744\n",
      "At epoch 58/100. Total training loss:  0.261310  current loss:  0.054038  learning rate 0.0003125 current best validate loss:  0.051744\n",
      "At epoch 59/100. Total training loss:  0.263364  current loss:  0.053175  learning rate 0.0003125 current best validate loss:  0.051744\n",
      "At epoch 60/100. Total training loss:  0.266819  current loss:  0.054055  learning rate 0.0003125 current best validate loss:  0.051744\n",
      "At epoch 61/100. Total training loss:  0.259444  current loss:  0.052339  learning rate 0.00015625 current best validate loss:  0.051744\n",
      "At epoch 62/100. Total training loss:  0.268522  current loss:  0.051792  learning rate 0.00015625 current best validate loss:  0.051744\n",
      "At epoch 63/100. Total training loss:  0.258409  current loss:  0.053453  learning rate 0.00015625 current best validate loss:  0.051744\n",
      "At epoch 64/100. Total training loss:  0.254767  current loss:  0.052662  learning rate 0.00015625 current best validate loss:  0.051744\n",
      "At epoch 65/100. Total training loss:  0.261082  current loss:  0.055397  learning rate 0.00015625 current best validate loss:  0.051744\n",
      "At epoch 66/100. Total training loss:  0.264366  current loss:  0.053665  learning rate 0.00015625 current best validate loss:  0.051744\n",
      "At epoch 67/100. Total training loss:  0.255549  current loss:  0.054304  learning rate 0.00015625 current best validate loss:  0.051744\n",
      "At epoch 68/100. Total training loss:  0.260870  current loss:  0.055580  learning rate 0.00015625 current best validate loss:  0.051744\n",
      "At epoch 69/100. Total training loss:  0.260202  current loss:  0.055352  learning rate 0.00015625 current best validate loss:  0.051744\n",
      "At epoch 70/100. Total training loss:  0.260137  current loss:  0.052612  learning rate 0.00015625 current best validate loss:  0.051744\n",
      "At epoch 71/100. Total training loss:  0.259558  current loss:  0.054910  learning rate 7.8125e-05 current best validate loss:  0.051744\n",
      "At epoch 72/100. Total training loss:  0.257611  current loss:  0.053468  learning rate 7.8125e-05 current best validate loss:  0.051744\n",
      "At epoch 73/100. Total training loss:  0.258417  current loss:  0.052781  learning rate 7.8125e-05 current best validate loss:  0.051744\n",
      "At epoch 74/100. Total training loss:  0.256527  current loss:  0.052619  learning rate 7.8125e-05 current best validate loss:  0.051744\n",
      "At epoch 75/100. Total training loss:  0.257391  current loss:  0.053760  learning rate 7.8125e-05 current best validate loss:  0.051744\n",
      "At epoch 76/100. Total training loss:  0.262622  current loss:  0.053413  learning rate 7.8125e-05 current best validate loss:  0.051744\n",
      "At epoch 77/100. Total training loss:  0.258409  current loss:  0.053132  learning rate 7.8125e-05 current best validate loss:  0.051744\n",
      "At epoch 78/100. Total training loss:  0.269231  current loss:  0.052743  learning rate 7.8125e-05 current best validate loss:  0.051744\n",
      "At epoch 79/100. Total training loss:  0.253056  current loss:  0.053106  learning rate 7.8125e-05 current best validate loss:  0.051744\n",
      "At epoch 80/100. Total training loss:  0.259811  current loss:  0.053941  learning rate 7.8125e-05 current best validate loss:  0.051744\n",
      "At epoch 81/100. Total training loss:  0.264391  current loss:  0.055928  learning rate 3.90625e-05 current best validate loss:  0.051744\n",
      "At epoch 82/100. Total training loss:  0.259542  current loss:  0.053261  learning rate 3.90625e-05 current best validate loss:  0.051744\n",
      "At epoch 83/100. Total training loss:  0.255174  current loss:  0.053006  learning rate 3.90625e-05 current best validate loss:  0.051744\n",
      "At epoch 84/100. Total training loss:  0.252086  current loss:  0.051801  learning rate 3.90625e-05 current best validate loss:  0.051744\n",
      "At epoch 85/100. Total training loss:  0.260781  current loss:  0.052498  learning rate 3.90625e-05 current best validate loss:  0.051744\n",
      "At epoch 86/100. Total training loss:  0.259624  current loss:  0.053396  learning rate 3.90625e-05 current best validate loss:  0.051744\n",
      "At epoch 87/100. Total training loss:  0.255085  current loss:  0.051231  learning rate 3.90625e-05 current best validate loss:  0.051231\n",
      "At epoch 88/100. Total training loss:  0.253732  current loss:  0.051345  learning rate 3.90625e-05 current best validate loss:  0.051231\n",
      "At epoch 89/100. Total training loss:  0.253137  current loss:  0.052210  learning rate 3.90625e-05 current best validate loss:  0.051231\n",
      "At epoch 90/100. Total training loss:  0.256641  current loss:  0.055813  learning rate 3.90625e-05 current best validate loss:  0.051231\n",
      "At epoch 91/100. Total training loss:  0.251507  current loss:  0.056847  learning rate 1.953125e-05 current best validate loss:  0.051231\n",
      "At epoch 92/100. Total training loss:  0.252118  current loss:  0.052638  learning rate 1.953125e-05 current best validate loss:  0.051231\n",
      "At epoch 93/100. Total training loss:  0.256071  current loss:  0.053731  learning rate 1.953125e-05 current best validate loss:  0.051231\n",
      "At epoch 94/100. Total training loss:  0.259298  current loss:  0.055027  learning rate 1.953125e-05 current best validate loss:  0.051231\n",
      "At epoch 95/100. Total training loss:  0.255215  current loss:  0.052063  learning rate 1.953125e-05 current best validate loss:  0.051231\n",
      "At epoch 96/100. Total training loss:  0.256177  current loss:  0.052852  learning rate 1.953125e-05 current best validate loss:  0.051231\n",
      "At epoch 97/100. Total training loss:  0.256486  current loss:  0.051350  learning rate 1.953125e-05 current best validate loss:  0.051231\n",
      "At epoch 98/100. Total training loss:  0.248280  current loss:  0.051471  learning rate 1.953125e-05 current best validate loss:  0.051231\n",
      "At epoch 99/100. Total training loss:  0.257203  current loss:  0.052524  learning rate 1.953125e-05 current best validate loss:  0.051231\n",
      "At epoch 100/100. Total training loss:  0.265735  current loss:  0.058150  learning rate 1.953125e-05 current best validate loss:  0.051231\n"
     ]
    },
    {
     "data": {
      "image/png": "[encoded data removed]",
      "text/plain": [
       "<Figure size 640x480 with 1 Axes>"
      ]
     },
     "metadata": {},
     "output_type": "display_data"
    },
    {
     "data": {
      "text/plain": [
       "<Figure size 640x480 with 0 Axes>"
      ]
     },
     "metadata": {},
     "output_type": "display_data"
    }
   ],
   "source": [
    "models = ShuffleNetV2(n_class=30, input_size=96, width_mult=0.5)\n",
    "l_m = WingLoss(omega=30, epsilon=2)\n",
    "train(l_m, \"best_shufflenet_v2_wingl.pt\")"
   ]
  },
  {
   "cell_type": "code",
   "execution_count": 18,
   "id": "cb358044",
   "metadata": {
    "execution": {
     "iopub.execute_input": "2023-04-20T09:47:45.183730Z",
     "iopub.status.busy": "2023-04-20T09:47:45.183410Z",
     "iopub.status.idle": "2023-04-20T09:50:11.964082Z",
     "shell.execute_reply": "2023-04-20T09:50:11.963044Z"
    },
    "papermill": {
     "duration": 146.802458,
     "end_time": "2023-04-20T09:50:11.966336",
     "exception": false,
     "start_time": "2023-04-20T09:47:45.163878",
     "status": "completed"
    },
    "tags": []
   },
   "outputs": [
    {
     "name": "stdout",
     "output_type": "stream",
     "text": [
      "At epoch 1/100. Total training loss:  0.164699  current loss:  0.490297  learning rate 0.01 current best validate loss:  0.490297\n",
      "At epoch 2/100. Total training loss:  0.029327  current loss:  0.124095  learning rate 0.01 current best validate loss:  0.124095\n",
      "At epoch 3/100. Total training loss:  0.018321  current loss:  0.142739  learning rate 0.01 current best validate loss:  0.124095\n",
      "At epoch 4/100. Total training loss:  0.016533  current loss:  0.139582  learning rate 0.01 current best validate loss:  0.124095\n",
      "At epoch 5/100. Total training loss:  0.015500  current loss:  0.139449  learning rate 0.01 current best validate loss:  0.124095\n",
      "At epoch 6/100. Total training loss:  0.014482  current loss:  0.136435  learning rate 0.01 current best validate loss:  0.124095\n",
      "At epoch 7/100. Total training loss:  0.013743  current loss:  0.132775  learning rate 0.01 current best validate loss:  0.124095\n",
      "At epoch 8/100. Total training loss:  0.012967  current loss:  0.129961  learning rate 0.01 current best validate loss:  0.124095\n",
      "At epoch 9/100. Total training loss:  0.012275  current loss:  0.126444  learning rate 0.01 current best validate loss:  0.124095\n",
      "At epoch 10/100. Total training loss:  0.011681  current loss:  0.122574  learning rate 0.01 current best validate loss:  0.122574\n",
      "At epoch 11/100. Total training loss:  0.011162  current loss:  0.125921  learning rate 0.005 current best validate loss:  0.122574\n",
      "At epoch 12/100. Total training loss:  0.010954  current loss:  0.127717  learning rate 0.005 current best validate loss:  0.122574\n",
      "At epoch 13/100. Total training loss:  0.010590  current loss:  0.122726  learning rate 0.005 current best validate loss:  0.122574\n",
      "At epoch 14/100. Total training loss:  0.010430  current loss:  0.121890  learning rate 0.005 current best validate loss:  0.121890\n",
      "At epoch 15/100. Total training loss:  0.010075  current loss:  0.121937  learning rate 0.005 current best validate loss:  0.121890\n",
      "At epoch 16/100. Total training loss:  0.009801  current loss:  0.120891  learning rate 0.005 current best validate loss:  0.120891\n",
      "At epoch 17/100. Total training loss:  0.009615  current loss:  0.118553  learning rate 0.005 current best validate loss:  0.118553\n",
      "At epoch 18/100. Total training loss:  0.009458  current loss:  0.120178  learning rate 0.005 current best validate loss:  0.118553\n",
      "At epoch 19/100. Total training loss:  0.009376  current loss:  0.117379  learning rate 0.005 current best validate loss:  0.117379\n",
      "At epoch 20/100. Total training loss:  0.008925  current loss:  0.116404  learning rate 0.005 current best validate loss:  0.116404\n",
      "At epoch 21/100. Total training loss:  0.008789  current loss:  0.115330  learning rate 0.0025 current best validate loss:  0.115330\n",
      "At epoch 22/100. Total training loss:  0.008866  current loss:  0.117830  learning rate 0.0025 current best validate loss:  0.115330\n",
      "At epoch 23/100. Total training loss:  0.008663  current loss:  0.119123  learning rate 0.0025 current best validate loss:  0.115330\n",
      "At epoch 24/100. Total training loss:  0.008467  current loss:  0.114969  learning rate 0.0025 current best validate loss:  0.114969\n",
      "At epoch 25/100. Total training loss:  0.008671  current loss:  0.115644  learning rate 0.0025 current best validate loss:  0.114969\n",
      "At epoch 26/100. Total training loss:  0.008394  current loss:  0.115910  learning rate 0.0025 current best validate loss:  0.114969\n",
      "At epoch 27/100. Total training loss:  0.008292  current loss:  0.115491  learning rate 0.0025 current best validate loss:  0.114969\n",
      "At epoch 28/100. Total training loss:  0.008263  current loss:  0.114227  learning rate 0.0025 current best validate loss:  0.114227\n",
      "At epoch 29/100. Total training loss:  0.008243  current loss:  0.113110  learning rate 0.0025 current best validate loss:  0.113110\n",
      "At epoch 30/100. Total training loss:  0.008333  current loss:  0.114493  learning rate 0.0025 current best validate loss:  0.113110\n",
      "At epoch 31/100. Total training loss:  0.007938  current loss:  0.113390  learning rate 0.00125 current best validate loss:  0.113110\n",
      "At epoch 32/100. Total training loss:  0.007854  current loss:  0.113657  learning rate 0.00125 current best validate loss:  0.113110\n",
      "At epoch 33/100. Total training loss:  0.007884  current loss:  0.115843  learning rate 0.00125 current best validate loss:  0.113110\n",
      "At epoch 34/100. Total training loss:  0.007885  current loss:  0.112715  learning rate 0.00125 current best validate loss:  0.112715\n",
      "At epoch 35/100. Total training loss:  0.007883  current loss:  0.113752  learning rate 0.00125 current best validate loss:  0.112715\n",
      "At epoch 36/100. Total training loss:  0.007914  current loss:  0.114056  learning rate 0.00125 current best validate loss:  0.112715\n",
      "At epoch 37/100. Total training loss:  0.007637  current loss:  0.114950  learning rate 0.00125 current best validate loss:  0.112715\n",
      "At epoch 38/100. Total training loss:  0.007855  current loss:  0.114056  learning rate 0.00125 current best validate loss:  0.112715\n",
      "At epoch 39/100. Total training loss:  0.007901  current loss:  0.113286  learning rate 0.00125 current best validate loss:  0.112715\n",
      "At epoch 40/100. Total training loss:  0.007758  current loss:  0.112925  learning rate 0.00125 current best validate loss:  0.112715\n",
      "At epoch 41/100. Total training loss:  0.007717  current loss:  0.114750  learning rate 0.000625 current best validate loss:  0.112715\n",
      "At epoch 42/100. Total training loss:  0.007744  current loss:  0.117802  learning rate 0.000625 current best validate loss:  0.112715\n",
      "At epoch 43/100. Total training loss:  0.007778  current loss:  0.114579  learning rate 0.000625 current best validate loss:  0.112715\n",
      "At epoch 44/100. Total training loss:  0.007505  current loss:  0.113352  learning rate 0.000625 current best validate loss:  0.112715\n",
      "At epoch 45/100. Total training loss:  0.007497  current loss:  0.112677  learning rate 0.000625 current best validate loss:  0.112677\n",
      "At epoch 46/100. Total training loss:  0.007558  current loss:  0.113847  learning rate 0.000625 current best validate loss:  0.112677\n",
      "At epoch 47/100. Total training loss:  0.007478  current loss:  0.115520  learning rate 0.000625 current best validate loss:  0.112677\n",
      "At epoch 48/100. Total training loss:  0.007706  current loss:  0.112753  learning rate 0.000625 current best validate loss:  0.112677\n",
      "At epoch 49/100. Total training loss:  0.007833  current loss:  0.120939  learning rate 0.000625 current best validate loss:  0.112677\n",
      "At epoch 50/100. Total training loss:  0.007496  current loss:  0.111413  learning rate 0.000625 current best validate loss:  0.111413\n",
      "At epoch 51/100. Total training loss:  0.007528  current loss:  0.112839  learning rate 0.0003125 current best validate loss:  0.111413\n",
      "At epoch 52/100. Total training loss:  0.007255  current loss:  0.112701  learning rate 0.0003125 current best validate loss:  0.111413\n",
      "At epoch 53/100. Total training loss:  0.007417  current loss:  0.113162  learning rate 0.0003125 current best validate loss:  0.111413\n",
      "At epoch 54/100. Total training loss:  0.007619  current loss:  0.118025  learning rate 0.0003125 current best validate loss:  0.111413\n",
      "At epoch 55/100. Total training loss:  0.007552  current loss:  0.108756  learning rate 0.0003125 current best validate loss:  0.108756\n",
      "At epoch 56/100. Total training loss:  0.007437  current loss:  0.111223  learning rate 0.0003125 current best validate loss:  0.108756\n",
      "At epoch 57/100. Total training loss:  0.007458  current loss:  0.113913  learning rate 0.0003125 current best validate loss:  0.108756\n",
      "At epoch 58/100. Total training loss:  0.007371  current loss:  0.113167  learning rate 0.0003125 current best validate loss:  0.108756\n",
      "At epoch 59/100. Total training loss:  0.007432  current loss:  0.113153  learning rate 0.0003125 current best validate loss:  0.108756\n",
      "At epoch 60/100. Total training loss:  0.007327  current loss:  0.113619  learning rate 0.0003125 current best validate loss:  0.108756\n",
      "At epoch 61/100. Total training loss:  0.007272  current loss:  0.114484  learning rate 0.00015625 current best validate loss:  0.108756\n",
      "At epoch 62/100. Total training loss:  0.007497  current loss:  0.111460  learning rate 0.00015625 current best validate loss:  0.108756\n",
      "At epoch 63/100. Total training loss:  0.007262  current loss:  0.111437  learning rate 0.00015625 current best validate loss:  0.108756\n",
      "At epoch 64/100. Total training loss:  0.007425  current loss:  0.116262  learning rate 0.00015625 current best validate loss:  0.108756\n",
      "At epoch 65/100. Total training loss:  0.007356  current loss:  0.116195  learning rate 0.00015625 current best validate loss:  0.108756\n",
      "At epoch 66/100. Total training loss:  0.007530  current loss:  0.112283  learning rate 0.00015625 current best validate loss:  0.108756\n",
      "At epoch 67/100. Total training loss:  0.007332  current loss:  0.111903  learning rate 0.00015625 current best validate loss:  0.108756\n",
      "At epoch 68/100. Total training loss:  0.007432  current loss:  0.112364  learning rate 0.00015625 current best validate loss:  0.108756\n",
      "At epoch 69/100. Total training loss:  0.007414  current loss:  0.114493  learning rate 0.00015625 current best validate loss:  0.108756\n",
      "At epoch 70/100. Total training loss:  0.007528  current loss:  0.112402  learning rate 0.00015625 current best validate loss:  0.108756\n",
      "At epoch 71/100. Total training loss:  0.007377  current loss:  0.114351  learning rate 7.8125e-05 current best validate loss:  0.108756\n",
      "At epoch 72/100. Total training loss:  0.007487  current loss:  0.113837  learning rate 7.8125e-05 current best validate loss:  0.108756\n",
      "At epoch 73/100. Total training loss:  0.007496  current loss:  0.114664  learning rate 7.8125e-05 current best validate loss:  0.108756\n",
      "At epoch 74/100. Total training loss:  0.007487  current loss:  0.110263  learning rate 7.8125e-05 current best validate loss:  0.108756\n",
      "At epoch 75/100. Total training loss:  0.007221  current loss:  0.113504  learning rate 7.8125e-05 current best validate loss:  0.108756\n",
      "At epoch 76/100. Total training loss:  0.007393  current loss:  0.115472  learning rate 7.8125e-05 current best validate loss:  0.108756\n",
      "At epoch 77/100. Total training loss:  0.007420  current loss:  0.114940  learning rate 7.8125e-05 current best validate loss:  0.108756\n",
      "At epoch 78/100. Total training loss:  0.007375  current loss:  0.115596  learning rate 7.8125e-05 current best validate loss:  0.108756\n",
      "At epoch 79/100. Total training loss:  0.007360  current loss:  0.113419  learning rate 7.8125e-05 current best validate loss:  0.108756\n",
      "At epoch 80/100. Total training loss:  0.007270  current loss:  0.112972  learning rate 7.8125e-05 current best validate loss:  0.108756\n",
      "At epoch 81/100. Total training loss:  0.007424  current loss:  0.111855  learning rate 3.90625e-05 current best validate loss:  0.108756\n",
      "At epoch 82/100. Total training loss:  0.007369  current loss:  0.112316  learning rate 3.90625e-05 current best validate loss:  0.108756\n",
      "At epoch 83/100. Total training loss:  0.007276  current loss:  0.114474  learning rate 3.90625e-05 current best validate loss:  0.108756\n",
      "At epoch 84/100. Total training loss:  0.007540  current loss:  0.113219  learning rate 3.90625e-05 current best validate loss:  0.108756\n",
      "At epoch 85/100. Total training loss:  0.007215  current loss:  0.113143  learning rate 3.90625e-05 current best validate loss:  0.108756\n",
      "At epoch 86/100. Total training loss:  0.007290  current loss:  0.112463  learning rate 3.90625e-05 current best validate loss:  0.108756\n",
      "At epoch 87/100. Total training loss:  0.007384  current loss:  0.111836  learning rate 3.90625e-05 current best validate loss:  0.108756\n",
      "At epoch 88/100. Total training loss:  0.007537  current loss:  0.111346  learning rate 3.90625e-05 current best validate loss:  0.108756\n",
      "At epoch 89/100. Total training loss:  0.007422  current loss:  0.110938  learning rate 3.90625e-05 current best validate loss:  0.108756\n",
      "At epoch 90/100. Total training loss:  0.007562  current loss:  0.113029  learning rate 3.90625e-05 current best validate loss:  0.108756\n",
      "At epoch 91/100. Total training loss:  0.007377  current loss:  0.114313  learning rate 1.953125e-05 current best validate loss:  0.108756\n",
      "At epoch 92/100. Total training loss:  0.007470  current loss:  0.111969  learning rate 1.953125e-05 current best validate loss:  0.108756\n",
      "At epoch 93/100. Total training loss:  0.007545  current loss:  0.110843  learning rate 1.953125e-05 current best validate loss:  0.108756\n",
      "At epoch 94/100. Total training loss:  0.007398  current loss:  0.114902  learning rate 1.953125e-05 current best validate loss:  0.108756\n",
      "At epoch 95/100. Total training loss:  0.007375  current loss:  0.115254  learning rate 1.953125e-05 current best validate loss:  0.108756\n",
      "At epoch 96/100. Total training loss:  0.007277  current loss:  0.112620  learning rate 1.953125e-05 current best validate loss:  0.108756\n",
      "At epoch 97/100. Total training loss:  0.007324  current loss:  0.113485  learning rate 1.953125e-05 current best validate loss:  0.108756\n",
      "At epoch 98/100. Total training loss:  0.007347  current loss:  0.113557  learning rate 1.953125e-05 current best validate loss:  0.108756\n",
      "At epoch 99/100. Total training loss:  0.007338  current loss:  0.112616  learning rate 1.953125e-05 current best validate loss:  0.108756\n",
      "At epoch 100/100. Total training loss:  0.007415  current loss:  0.113609  learning rate 1.953125e-05 current best validate loss:  0.108756\n"
     ]
    },
    {
     "data": {
      "image/png": "[encoded data removed]",
      "text/plain": [
       "<Figure size 640x480 with 1 Axes>"
      ]
     },
     "metadata": {},
     "output_type": "display_data"
    },
    {
     "data": {
      "text/plain": [
       "<Figure size 640x480 with 0 Axes>"
      ]
     },
     "metadata": {},
     "output_type": "display_data"
    }
   ],
   "source": [
    "models = ShuffleNetV2(n_class=30, input_size=96, width_mult=0.5)\n",
    "l_m = L2Loss()\n",
    "train(l_m, \"best_shufflenet_v2_l2.pt\")"
   ]
  },
  {
   "cell_type": "code",
   "execution_count": 19,
   "id": "8aa9d599",
   "metadata": {
    "execution": {
     "iopub.execute_input": "2023-04-20T09:50:12.016943Z",
     "iopub.status.busy": "2023-04-20T09:50:12.016000Z",
     "iopub.status.idle": "2023-04-20T09:52:40.409408Z",
     "shell.execute_reply": "2023-04-20T09:52:40.407995Z"
    },
    "papermill": {
     "duration": 148.420768,
     "end_time": "2023-04-20T09:52:40.411675",
     "exception": false,
     "start_time": "2023-04-20T09:50:11.990907",
     "status": "completed"
    },
    "tags": []
   },
   "outputs": [
    {
     "name": "stdout",
     "output_type": "stream",
     "text": [
      "At epoch 1/100. Total training loss:  0.349119  current loss:  0.282492  learning rate 0.01 current best validate loss:  0.282492\n",
      "At epoch 2/100. Total training loss:  0.146126  current loss:  0.102833  learning rate 0.01 current best validate loss:  0.102833\n",
      "At epoch 3/100. Total training loss:  0.119613  current loss:  0.131473  learning rate 0.01 current best validate loss:  0.102833\n",
      "At epoch 4/100. Total training loss:  0.108498  current loss:  0.131501  learning rate 0.01 current best validate loss:  0.102833\n",
      "At epoch 5/100. Total training loss:  0.101908  current loss:  0.117241  learning rate 0.01 current best validate loss:  0.102833\n",
      "At epoch 6/100. Total training loss:  0.095134  current loss:  0.114560  learning rate 0.01 current best validate loss:  0.102833\n",
      "At epoch 7/100. Total training loss:  0.090447  current loss:  0.108447  learning rate 0.01 current best validate loss:  0.102833\n",
      "At epoch 8/100. Total training loss:  0.087138  current loss:  0.109184  learning rate 0.01 current best validate loss:  0.102833\n",
      "At epoch 9/100. Total training loss:  0.084029  current loss:  0.105343  learning rate 0.01 current best validate loss:  0.102833\n",
      "At epoch 10/100. Total training loss:  0.080303  current loss:  0.102961  learning rate 0.01 current best validate loss:  0.102833\n",
      "At epoch 11/100. Total training loss:  0.076968  current loss:  0.095546  learning rate 0.005 current best validate loss:  0.095546\n",
      "At epoch 12/100. Total training loss:  0.075840  current loss:  0.098464  learning rate 0.005 current best validate loss:  0.095546\n",
      "At epoch 13/100. Total training loss:  0.074350  current loss:  0.098721  learning rate 0.005 current best validate loss:  0.095546\n",
      "At epoch 14/100. Total training loss:  0.071918  current loss:  0.101060  learning rate 0.005 current best validate loss:  0.095546\n",
      "At epoch 15/100. Total training loss:  0.071138  current loss:  0.092817  learning rate 0.005 current best validate loss:  0.092817\n",
      "At epoch 16/100. Total training loss:  0.069355  current loss:  0.089884  learning rate 0.005 current best validate loss:  0.089884\n",
      "At epoch 17/100. Total training loss:  0.068406  current loss:  0.091866  learning rate 0.005 current best validate loss:  0.089884\n",
      "At epoch 18/100. Total training loss:  0.067636  current loss:  0.091424  learning rate 0.005 current best validate loss:  0.089884\n",
      "At epoch 19/100. Total training loss:  0.066179  current loss:  0.088249  learning rate 0.005 current best validate loss:  0.088249\n",
      "At epoch 20/100. Total training loss:  0.065409  current loss:  0.084365  learning rate 0.005 current best validate loss:  0.084365\n",
      "At epoch 21/100. Total training loss:  0.064335  current loss:  0.085159  learning rate 0.0025 current best validate loss:  0.084365\n",
      "At epoch 22/100. Total training loss:  0.063437  current loss:  0.088163  learning rate 0.0025 current best validate loss:  0.084365\n",
      "At epoch 23/100. Total training loss:  0.063303  current loss:  0.092028  learning rate 0.0025 current best validate loss:  0.084365\n",
      "At epoch 24/100. Total training loss:  0.062082  current loss:  0.085825  learning rate 0.0025 current best validate loss:  0.084365\n",
      "At epoch 25/100. Total training loss:  0.060377  current loss:  0.085292  learning rate 0.0025 current best validate loss:  0.084365\n",
      "At epoch 26/100. Total training loss:  0.061082  current loss:  0.083234  learning rate 0.0025 current best validate loss:  0.083234\n",
      "At epoch 27/100. Total training loss:  0.060082  current loss:  0.082255  learning rate 0.0025 current best validate loss:  0.082255\n",
      "At epoch 28/100. Total training loss:  0.060512  current loss:  0.085283  learning rate 0.0025 current best validate loss:  0.082255\n",
      "At epoch 29/100. Total training loss:  0.059515  current loss:  0.083771  learning rate 0.0025 current best validate loss:  0.082255\n",
      "At epoch 30/100. Total training loss:  0.059261  current loss:  0.084860  learning rate 0.0025 current best validate loss:  0.082255\n",
      "At epoch 31/100. Total training loss:  0.058597  current loss:  0.083225  learning rate 0.00125 current best validate loss:  0.082255\n",
      "At epoch 32/100. Total training loss:  0.058322  current loss:  0.087175  learning rate 0.00125 current best validate loss:  0.082255\n",
      "At epoch 33/100. Total training loss:  0.057403  current loss:  0.082098  learning rate 0.00125 current best validate loss:  0.082098\n",
      "At epoch 34/100. Total training loss:  0.056971  current loss:  0.080886  learning rate 0.00125 current best validate loss:  0.080886\n",
      "At epoch 35/100. Total training loss:  0.056849  current loss:  0.084974  learning rate 0.00125 current best validate loss:  0.080886\n",
      "At epoch 36/100. Total training loss:  0.056419  current loss:  0.085297  learning rate 0.00125 current best validate loss:  0.080886\n",
      "At epoch 37/100. Total training loss:  0.055975  current loss:  0.083557  learning rate 0.00125 current best validate loss:  0.080886\n",
      "At epoch 38/100. Total training loss:  0.055575  current loss:  0.081722  learning rate 0.00125 current best validate loss:  0.080886\n",
      "At epoch 39/100. Total training loss:  0.055676  current loss:  0.085668  learning rate 0.00125 current best validate loss:  0.080886\n",
      "At epoch 40/100. Total training loss:  0.055158  current loss:  0.084094  learning rate 0.00125 current best validate loss:  0.080886\n",
      "At epoch 41/100. Total training loss:  0.054123  current loss:  0.082003  learning rate 0.000625 current best validate loss:  0.080886\n",
      "At epoch 42/100. Total training loss:  0.055311  current loss:  0.080582  learning rate 0.000625 current best validate loss:  0.080582\n",
      "At epoch 43/100. Total training loss:  0.055443  current loss:  0.081860  learning rate 0.000625 current best validate loss:  0.080582\n",
      "At epoch 44/100. Total training loss:  0.054809  current loss:  0.082483  learning rate 0.000625 current best validate loss:  0.080582\n",
      "At epoch 45/100. Total training loss:  0.054400  current loss:  0.084047  learning rate 0.000625 current best validate loss:  0.080582\n",
      "At epoch 46/100. Total training loss:  0.053823  current loss:  0.084384  learning rate 0.000625 current best validate loss:  0.080582\n",
      "At epoch 47/100. Total training loss:  0.053806  current loss:  0.080710  learning rate 0.000625 current best validate loss:  0.080582\n",
      "At epoch 48/100. Total training loss:  0.054710  current loss:  0.087004  learning rate 0.000625 current best validate loss:  0.080582\n",
      "At epoch 49/100. Total training loss:  0.054932  current loss:  0.084760  learning rate 0.000625 current best validate loss:  0.080582\n",
      "At epoch 50/100. Total training loss:  0.054547  current loss:  0.082203  learning rate 0.000625 current best validate loss:  0.080582\n",
      "At epoch 51/100. Total training loss:  0.054127  current loss:  0.079289  learning rate 0.0003125 current best validate loss:  0.079289\n",
      "At epoch 52/100. Total training loss:  0.053663  current loss:  0.083443  learning rate 0.0003125 current best validate loss:  0.079289\n",
      "At epoch 53/100. Total training loss:  0.052686  current loss:  0.083491  learning rate 0.0003125 current best validate loss:  0.079289\n",
      "At epoch 54/100. Total training loss:  0.053639  current loss:  0.083619  learning rate 0.0003125 current best validate loss:  0.079289\n",
      "At epoch 55/100. Total training loss:  0.054244  current loss:  0.079826  learning rate 0.0003125 current best validate loss:  0.079289\n",
      "At epoch 56/100. Total training loss:  0.053290  current loss:  0.085744  learning rate 0.0003125 current best validate loss:  0.079289\n",
      "At epoch 57/100. Total training loss:  0.052189  current loss:  0.081252  learning rate 0.0003125 current best validate loss:  0.079289\n",
      "At epoch 58/100. Total training loss:  0.053388  current loss:  0.081708  learning rate 0.0003125 current best validate loss:  0.079289\n",
      "At epoch 59/100. Total training loss:  0.052921  current loss:  0.080173  learning rate 0.0003125 current best validate loss:  0.079289\n",
      "At epoch 60/100. Total training loss:  0.053379  current loss:  0.083101  learning rate 0.0003125 current best validate loss:  0.079289\n",
      "At epoch 61/100. Total training loss:  0.053223  current loss:  0.079094  learning rate 0.00015625 current best validate loss:  0.079094\n",
      "At epoch 62/100. Total training loss:  0.053618  current loss:  0.080410  learning rate 0.00015625 current best validate loss:  0.079094\n",
      "At epoch 63/100. Total training loss:  0.053286  current loss:  0.084508  learning rate 0.00015625 current best validate loss:  0.079094\n",
      "At epoch 64/100. Total training loss:  0.052756  current loss:  0.081214  learning rate 0.00015625 current best validate loss:  0.079094\n",
      "At epoch 65/100. Total training loss:  0.052664  current loss:  0.083101  learning rate 0.00015625 current best validate loss:  0.079094\n",
      "At epoch 66/100. Total training loss:  0.053113  current loss:  0.081347  learning rate 0.00015625 current best validate loss:  0.079094\n",
      "At epoch 67/100. Total training loss:  0.051988  current loss:  0.080857  learning rate 0.00015625 current best validate loss:  0.079094\n",
      "At epoch 68/100. Total training loss:  0.052122  current loss:  0.081390  learning rate 0.00015625 current best validate loss:  0.079094\n",
      "At epoch 69/100. Total training loss:  0.053347  current loss:  0.083819  learning rate 0.00015625 current best validate loss:  0.079094\n",
      "At epoch 70/100. Total training loss:  0.053336  current loss:  0.078155  learning rate 0.00015625 current best validate loss:  0.078155\n",
      "At epoch 71/100. Total training loss:  0.052409  current loss:  0.080610  learning rate 7.8125e-05 current best validate loss:  0.078155\n",
      "At epoch 72/100. Total training loss:  0.052542  current loss:  0.081794  learning rate 7.8125e-05 current best validate loss:  0.078155\n",
      "At epoch 73/100. Total training loss:  0.052727  current loss:  0.085601  learning rate 7.8125e-05 current best validate loss:  0.078155\n",
      "At epoch 74/100. Total training loss:  0.053715  current loss:  0.080967  learning rate 7.8125e-05 current best validate loss:  0.078155\n",
      "At epoch 75/100. Total training loss:  0.052182  current loss:  0.086809  learning rate 7.8125e-05 current best validate loss:  0.078155\n",
      "At epoch 76/100. Total training loss:  0.053243  current loss:  0.089380  learning rate 7.8125e-05 current best validate loss:  0.078155\n",
      "At epoch 77/100. Total training loss:  0.053871  current loss:  0.081889  learning rate 7.8125e-05 current best validate loss:  0.078155\n",
      "At epoch 78/100. Total training loss:  0.052251  current loss:  0.081551  learning rate 7.8125e-05 current best validate loss:  0.078155\n",
      "At epoch 79/100. Total training loss:  0.052537  current loss:  0.079959  learning rate 7.8125e-05 current best validate loss:  0.078155\n",
      "At epoch 80/100. Total training loss:  0.052445  current loss:  0.081190  learning rate 7.8125e-05 current best validate loss:  0.078155\n",
      "At epoch 81/100. Total training loss:  0.053455  current loss:  0.080311  learning rate 3.90625e-05 current best validate loss:  0.078155\n",
      "At epoch 82/100. Total training loss:  0.052635  current loss:  0.078476  learning rate 3.90625e-05 current best validate loss:  0.078155\n",
      "At epoch 83/100. Total training loss:  0.053037  current loss:  0.079840  learning rate 3.90625e-05 current best validate loss:  0.078155\n",
      "At epoch 84/100. Total training loss:  0.053007  current loss:  0.082897  learning rate 3.90625e-05 current best validate loss:  0.078155\n",
      "At epoch 85/100. Total training loss:  0.053181  current loss:  0.082027  learning rate 3.90625e-05 current best validate loss:  0.078155\n",
      "At epoch 86/100. Total training loss:  0.053258  current loss:  0.082721  learning rate 3.90625e-05 current best validate loss:  0.078155\n",
      "At epoch 87/100. Total training loss:  0.051923  current loss:  0.079940  learning rate 3.90625e-05 current best validate loss:  0.078155\n",
      "At epoch 88/100. Total training loss:  0.052411  current loss:  0.085554  learning rate 3.90625e-05 current best validate loss:  0.078155\n",
      "At epoch 89/100. Total training loss:  0.051473  current loss:  0.084190  learning rate 3.90625e-05 current best validate loss:  0.078155\n",
      "At epoch 90/100. Total training loss:  0.052160  current loss:  0.085568  learning rate 3.90625e-05 current best validate loss:  0.078155\n",
      "At epoch 91/100. Total training loss:  0.051508  current loss:  0.081266  learning rate 1.953125e-05 current best validate loss:  0.078155\n",
      "At epoch 92/100. Total training loss:  0.052935  current loss:  0.081066  learning rate 1.953125e-05 current best validate loss:  0.078155\n",
      "At epoch 93/100. Total training loss:  0.052809  current loss:  0.083538  learning rate 1.953125e-05 current best validate loss:  0.078155\n",
      "At epoch 94/100. Total training loss:  0.052379  current loss:  0.085658  learning rate 1.953125e-05 current best validate loss:  0.078155\n",
      "At epoch 95/100. Total training loss:  0.052347  current loss:  0.080140  learning rate 1.953125e-05 current best validate loss:  0.078155\n",
      "At epoch 96/100. Total training loss:  0.052601  current loss:  0.078324  learning rate 1.953125e-05 current best validate loss:  0.078155\n",
      "At epoch 97/100. Total training loss:  0.052773  current loss:  0.079060  learning rate 1.953125e-05 current best validate loss:  0.078155\n",
      "At epoch 98/100. Total training loss:  0.052215  current loss:  0.079688  learning rate 1.953125e-05 current best validate loss:  0.078155\n",
      "At epoch 99/100. Total training loss:  0.052846  current loss:  0.079379  learning rate 1.953125e-05 current best validate loss:  0.078155\n",
      "At epoch 100/100. Total training loss:  0.052185  current loss:  0.083044  learning rate 1.953125e-05 current best validate loss:  0.078155\n"
     ]
    },
    {
     "data": {
      "image/png": "[encoded data removed]",
      "text/plain": [
       "<Figure size 640x480 with 1 Axes>"
      ]
     },
     "metadata": {},
     "output_type": "display_data"
    },
    {
     "data": {
      "text/plain": [
       "<Figure size 640x480 with 0 Axes>"
      ]
     },
     "metadata": {},
     "output_type": "display_data"
    }
   ],
   "source": [
    "models = ShuffleNetV2(n_class=30, input_size=96, width_mult=0.5)\n",
    "l_m = nn.L1Loss()\n",
    "train(l_m, \"best_shufflenet_v2_l1.pt\")"
   ]
  },
  {
   "cell_type": "code",
   "execution_count": 20,
   "id": "78ee19ac",
   "metadata": {
    "execution": {
     "iopub.execute_input": "2023-04-20T09:52:40.472949Z",
     "iopub.status.busy": "2023-04-20T09:52:40.471963Z",
     "iopub.status.idle": "2023-04-20T09:56:16.669616Z",
     "shell.execute_reply": "2023-04-20T09:56:16.668508Z"
    },
    "papermill": {
     "duration": 216.230605,
     "end_time": "2023-04-20T09:56:16.671884",
     "exception": false,
     "start_time": "2023-04-20T09:52:40.441279",
     "status": "completed"
    },
    "tags": []
   },
   "outputs": [
    {
     "name": "stderr",
     "output_type": "stream",
     "text": [
      "/opt/conda/lib/python3.7/site-packages/ipykernel_launcher.py:95: UserWarning: nn.init.xavier_uniform is now deprecated in favor of nn.init.xavier_uniform_.\n"
     ]
    },
    {
     "name": "stdout",
     "output_type": "stream",
     "text": [
      "At epoch 1/100. Total training loss:  11.843917  current loss:  199.143302  learning rate 0.01 current best validate loss:  199.143302\n",
      "At epoch 2/100. Total training loss:  6.318059  current loss:  0.231753  learning rate 0.01 current best validate loss:  0.231753\n",
      "At epoch 3/100. Total training loss:  4.315846  current loss:  0.151523  learning rate 0.01 current best validate loss:  0.151523\n",
      "At epoch 4/100. Total training loss:  2.911630  current loss:  0.254399  learning rate 0.01 current best validate loss:  0.151523\n",
      "At epoch 5/100. Total training loss:  2.218648  current loss:  0.074160  learning rate 0.01 current best validate loss:  0.074160\n",
      "At epoch 6/100. Total training loss:  1.703802  current loss:  0.066221  learning rate 0.01 current best validate loss:  0.066221\n",
      "At epoch 7/100. Total training loss:  1.450241  current loss:  0.075220  learning rate 0.01 current best validate loss:  0.066221\n",
      "At epoch 8/100. Total training loss:  1.367383  current loss:  0.058316  learning rate 0.01 current best validate loss:  0.058316\n",
      "At epoch 9/100. Total training loss:  1.153882  current loss:  17.156990  learning rate 0.01 current best validate loss:  0.058316\n",
      "At epoch 10/100. Total training loss:  1.223409  current loss:  0.058635  learning rate 0.01 current best validate loss:  0.058316\n",
      "At epoch 11/100. Total training loss:  0.956956  current loss:  0.057239  learning rate 0.005 current best validate loss:  0.057239\n",
      "At epoch 12/100. Total training loss:  0.817203  current loss:  0.057472  learning rate 0.005 current best validate loss:  0.057239\n",
      "At epoch 13/100. Total training loss:  0.826672  current loss:  0.065066  learning rate 0.005 current best validate loss:  0.057239\n",
      "At epoch 14/100. Total training loss:  0.785944  current loss:  0.060030  learning rate 0.005 current best validate loss:  0.057239\n",
      "At epoch 15/100. Total training loss:  0.753071  current loss:  0.062468  learning rate 0.005 current best validate loss:  0.057239\n",
      "At epoch 16/100. Total training loss:  0.738436  current loss:  0.055010  learning rate 0.005 current best validate loss:  0.055010\n",
      "At epoch 17/100. Total training loss:  0.702825  current loss:  0.058114  learning rate 0.005 current best validate loss:  0.055010\n",
      "At epoch 18/100. Total training loss:  0.754652  current loss:  0.056969  learning rate 0.005 current best validate loss:  0.055010\n",
      "At epoch 19/100. Total training loss:  0.695931  current loss:  0.173665  learning rate 0.005 current best validate loss:  0.055010\n",
      "At epoch 20/100. Total training loss:  0.682730  current loss:  0.054739  learning rate 0.005 current best validate loss:  0.054739\n",
      "At epoch 21/100. Total training loss:  0.588170  current loss:  0.053843  learning rate 0.0025 current best validate loss:  0.053843\n",
      "At epoch 22/100. Total training loss:  0.516900  current loss:  0.055578  learning rate 0.0025 current best validate loss:  0.053843\n",
      "At epoch 23/100. Total training loss:  0.517210  current loss:  0.054416  learning rate 0.0025 current best validate loss:  0.053843\n",
      "At epoch 24/100. Total training loss:  0.531014  current loss:  0.057192  learning rate 0.0025 current best validate loss:  0.053843\n",
      "At epoch 25/100. Total training loss:  0.505818  current loss:  0.056593  learning rate 0.0025 current best validate loss:  0.053843\n",
      "At epoch 26/100. Total training loss:  0.492242  current loss:  0.055897  learning rate 0.0025 current best validate loss:  0.053843\n",
      "At epoch 27/100. Total training loss:  0.482023  current loss:  0.052816  learning rate 0.0025 current best validate loss:  0.052816\n",
      "At epoch 28/100. Total training loss:  0.484028  current loss:  0.057886  learning rate 0.0025 current best validate loss:  0.052816\n",
      "At epoch 29/100. Total training loss:  0.459288  current loss:  0.052087  learning rate 0.0025 current best validate loss:  0.052087\n",
      "At epoch 30/100. Total training loss:  0.494067  current loss:  0.052845  learning rate 0.0025 current best validate loss:  0.052087\n",
      "At epoch 31/100. Total training loss:  0.453909  current loss:  0.052688  learning rate 0.00125 current best validate loss:  0.052087\n",
      "At epoch 32/100. Total training loss:  0.432429  current loss:  0.053030  learning rate 0.00125 current best validate loss:  0.052087\n",
      "At epoch 33/100. Total training loss:  0.412684  current loss:  0.052835  learning rate 0.00125 current best validate loss:  0.052087\n",
      "At epoch 34/100. Total training loss:  0.419904  current loss:  0.052947  learning rate 0.00125 current best validate loss:  0.052087\n",
      "At epoch 35/100. Total training loss:  0.401145  current loss:  0.053216  learning rate 0.00125 current best validate loss:  0.052087\n",
      "At epoch 36/100. Total training loss:  0.394862  current loss:  0.053294  learning rate 0.00125 current best validate loss:  0.052087\n",
      "At epoch 37/100. Total training loss:  0.387814  current loss:  0.053736  learning rate 0.00125 current best validate loss:  0.052087\n",
      "At epoch 38/100. Total training loss:  0.413670  current loss:  0.055098  learning rate 0.00125 current best validate loss:  0.052087\n",
      "At epoch 39/100. Total training loss:  0.411071  current loss:  0.055364  learning rate 0.00125 current best validate loss:  0.052087\n",
      "At epoch 40/100. Total training loss:  0.393159  current loss:  0.053137  learning rate 0.00125 current best validate loss:  0.052087\n",
      "At epoch 41/100. Total training loss:  0.368794  current loss:  0.051100  learning rate 0.000625 current best validate loss:  0.051100\n",
      "At epoch 42/100. Total training loss:  0.364190  current loss:  0.052621  learning rate 0.000625 current best validate loss:  0.051100\n",
      "At epoch 43/100. Total training loss:  0.369699  current loss:  0.051611  learning rate 0.000625 current best validate loss:  0.051100\n",
      "At epoch 44/100. Total training loss:  0.368525  current loss:  0.053807  learning rate 0.000625 current best validate loss:  0.051100\n",
      "At epoch 45/100. Total training loss:  0.354892  current loss:  0.052113  learning rate 0.000625 current best validate loss:  0.051100\n",
      "At epoch 46/100. Total training loss:  0.367425  current loss:  0.053289  learning rate 0.000625 current best validate loss:  0.051100\n",
      "At epoch 47/100. Total training loss:  0.349856  current loss:  0.058827  learning rate 0.000625 current best validate loss:  0.051100\n",
      "At epoch 48/100. Total training loss:  0.349824  current loss:  0.053437  learning rate 0.000625 current best validate loss:  0.051100\n",
      "At epoch 49/100. Total training loss:  0.352456  current loss:  0.051169  learning rate 0.000625 current best validate loss:  0.051100\n",
      "At epoch 50/100. Total training loss:  0.346507  current loss:  0.052167  learning rate 0.000625 current best validate loss:  0.051100\n",
      "At epoch 51/100. Total training loss:  0.353515  current loss:  0.053993  learning rate 0.0003125 current best validate loss:  0.051100\n",
      "At epoch 52/100. Total training loss:  0.329248  current loss:  0.052460  learning rate 0.0003125 current best validate loss:  0.051100\n",
      "At epoch 53/100. Total training loss:  0.337812  current loss:  0.055668  learning rate 0.0003125 current best validate loss:  0.051100\n",
      "At epoch 54/100. Total training loss:  0.333395  current loss:  0.053826  learning rate 0.0003125 current best validate loss:  0.051100\n",
      "At epoch 55/100. Total training loss:  0.330812  current loss:  0.056574  learning rate 0.0003125 current best validate loss:  0.051100\n",
      "At epoch 56/100. Total training loss:  0.327667  current loss:  0.053154  learning rate 0.0003125 current best validate loss:  0.051100\n",
      "At epoch 57/100. Total training loss:  0.322916  current loss:  0.051858  learning rate 0.0003125 current best validate loss:  0.051100\n",
      "At epoch 58/100. Total training loss:  0.336728  current loss:  0.052244  learning rate 0.0003125 current best validate loss:  0.051100\n",
      "At epoch 59/100. Total training loss:  0.338260  current loss:  0.052776  learning rate 0.0003125 current best validate loss:  0.051100\n",
      "At epoch 60/100. Total training loss:  0.323861  current loss:  0.051904  learning rate 0.0003125 current best validate loss:  0.051100\n",
      "At epoch 61/100. Total training loss:  0.323739  current loss:  0.053624  learning rate 0.00015625 current best validate loss:  0.051100\n",
      "At epoch 62/100. Total training loss:  0.324415  current loss:  0.051839  learning rate 0.00015625 current best validate loss:  0.051100\n",
      "At epoch 63/100. Total training loss:  0.322060  current loss:  0.053584  learning rate 0.00015625 current best validate loss:  0.051100\n",
      "At epoch 64/100. Total training loss:  0.321115  current loss:  0.051578  learning rate 0.00015625 current best validate loss:  0.051100\n",
      "At epoch 65/100. Total training loss:  0.321889  current loss:  0.053529  learning rate 0.00015625 current best validate loss:  0.051100\n",
      "At epoch 66/100. Total training loss:  0.326998  current loss:  0.052008  learning rate 0.00015625 current best validate loss:  0.051100\n",
      "At epoch 67/100. Total training loss:  0.317318  current loss:  0.052405  learning rate 0.00015625 current best validate loss:  0.051100\n",
      "At epoch 68/100. Total training loss:  0.318043  current loss:  0.050656  learning rate 0.00015625 current best validate loss:  0.050656\n",
      "At epoch 69/100. Total training loss:  0.330413  current loss:  0.051799  learning rate 0.00015625 current best validate loss:  0.050656\n",
      "At epoch 70/100. Total training loss:  0.313773  current loss:  0.050314  learning rate 0.00015625 current best validate loss:  0.050314\n",
      "At epoch 71/100. Total training loss:  0.313732  current loss:  0.054511  learning rate 7.8125e-05 current best validate loss:  0.050314\n",
      "At epoch 72/100. Total training loss:  0.311801  current loss:  0.052838  learning rate 7.8125e-05 current best validate loss:  0.050314\n",
      "At epoch 73/100. Total training loss:  0.311866  current loss:  0.050152  learning rate 7.8125e-05 current best validate loss:  0.050152\n",
      "At epoch 74/100. Total training loss:  0.314498  current loss:  0.054233  learning rate 7.8125e-05 current best validate loss:  0.050152\n",
      "At epoch 75/100. Total training loss:  0.306773  current loss:  0.051288  learning rate 7.8125e-05 current best validate loss:  0.050152\n",
      "At epoch 76/100. Total training loss:  0.310807  current loss:  0.056771  learning rate 7.8125e-05 current best validate loss:  0.050152\n",
      "At epoch 77/100. Total training loss:  0.310790  current loss:  0.051046  learning rate 7.8125e-05 current best validate loss:  0.050152\n",
      "At epoch 78/100. Total training loss:  0.315566  current loss:  0.051309  learning rate 7.8125e-05 current best validate loss:  0.050152\n",
      "At epoch 79/100. Total training loss:  0.309487  current loss:  0.053662  learning rate 7.8125e-05 current best validate loss:  0.050152\n",
      "At epoch 80/100. Total training loss:  0.310864  current loss:  0.052215  learning rate 7.8125e-05 current best validate loss:  0.050152\n",
      "At epoch 81/100. Total training loss:  0.309755  current loss:  0.055597  learning rate 3.90625e-05 current best validate loss:  0.050152\n",
      "At epoch 82/100. Total training loss:  0.319184  current loss:  0.051897  learning rate 3.90625e-05 current best validate loss:  0.050152\n",
      "At epoch 83/100. Total training loss:  0.311850  current loss:  0.051787  learning rate 3.90625e-05 current best validate loss:  0.050152\n",
      "At epoch 84/100. Total training loss:  0.308517  current loss:  0.051516  learning rate 3.90625e-05 current best validate loss:  0.050152\n",
      "At epoch 85/100. Total training loss:  0.303774  current loss:  0.052462  learning rate 3.90625e-05 current best validate loss:  0.050152\n",
      "At epoch 86/100. Total training loss:  0.325890  current loss:  0.052327  learning rate 3.90625e-05 current best validate loss:  0.050152\n",
      "At epoch 87/100. Total training loss:  0.306643  current loss:  0.052267  learning rate 3.90625e-05 current best validate loss:  0.050152\n",
      "At epoch 88/100. Total training loss:  0.301313  current loss:  0.053223  learning rate 3.90625e-05 current best validate loss:  0.050152\n",
      "At epoch 89/100. Total training loss:  0.312974  current loss:  0.052389  learning rate 3.90625e-05 current best validate loss:  0.050152\n",
      "At epoch 90/100. Total training loss:  0.315060  current loss:  0.053819  learning rate 3.90625e-05 current best validate loss:  0.050152\n",
      "At epoch 91/100. Total training loss:  0.307278  current loss:  0.051528  learning rate 1.953125e-05 current best validate loss:  0.050152\n",
      "At epoch 92/100. Total training loss:  0.309022  current loss:  0.053608  learning rate 1.953125e-05 current best validate loss:  0.050152\n",
      "At epoch 93/100. Total training loss:  0.306251  current loss:  0.052474  learning rate 1.953125e-05 current best validate loss:  0.050152\n",
      "At epoch 94/100. Total training loss:  0.304703  current loss:  0.051457  learning rate 1.953125e-05 current best validate loss:  0.050152\n",
      "At epoch 95/100. Total training loss:  0.307580  current loss:  0.052011  learning rate 1.953125e-05 current best validate loss:  0.050152\n",
      "At epoch 96/100. Total training loss:  0.305795  current loss:  0.052360  learning rate 1.953125e-05 current best validate loss:  0.050152\n",
      "At epoch 97/100. Total training loss:  0.300531  current loss:  0.051046  learning rate 1.953125e-05 current best validate loss:  0.050152\n",
      "At epoch 98/100. Total training loss:  0.311051  current loss:  0.051326  learning rate 1.953125e-05 current best validate loss:  0.050152\n",
      "At epoch 99/100. Total training loss:  0.306846  current loss:  0.050730  learning rate 1.953125e-05 current best validate loss:  0.050152\n",
      "At epoch 100/100. Total training loss:  0.308769  current loss:  0.054000  learning rate 1.953125e-05 current best validate loss:  0.050152\n"
     ]
    },
    {
     "data": {
      "image/png": "[encoded data removed]",
      "text/plain": [
       "<Figure size 640x480 with 1 Axes>"
      ]
     },
     "metadata": {},
     "output_type": "display_data"
    },
    {
     "data": {
      "text/plain": [
       "<Figure size 640x480 with 0 Axes>"
      ]
     },
     "metadata": {},
     "output_type": "display_data"
    }
   ],
   "source": [
    "models = ResNet18(num_classes=30, channels=3)\n",
    "l_m = WingLoss(omega=30, epsilon=2)\n",
    "train(l_m, \"best_r50_wingl.pt\")"
   ]
  },
  {
   "cell_type": "code",
   "execution_count": 21,
   "id": "9d981e3a",
   "metadata": {
    "execution": {
     "iopub.execute_input": "2023-04-20T09:56:16.744739Z",
     "iopub.status.busy": "2023-04-20T09:56:16.744366Z",
     "iopub.status.idle": "2023-04-20T09:59:47.782528Z",
     "shell.execute_reply": "2023-04-20T09:59:47.781458Z"
    },
    "papermill": {
     "duration": 211.076214,
     "end_time": "2023-04-20T09:59:47.784720",
     "exception": false,
     "start_time": "2023-04-20T09:56:16.708506",
     "status": "completed"
    },
    "tags": []
   },
   "outputs": [
    {
     "name": "stderr",
     "output_type": "stream",
     "text": [
      "/opt/conda/lib/python3.7/site-packages/ipykernel_launcher.py:95: UserWarning: nn.init.xavier_uniform is now deprecated in favor of nn.init.xavier_uniform_.\n"
     ]
    },
    {
     "name": "stdout",
     "output_type": "stream",
     "text": [
      "At epoch 1/100. Total training loss:  0.801150  current loss:  0.477747  learning rate 0.01 current best validate loss:  0.477747\n",
      "At epoch 2/100. Total training loss:  0.212865  current loss:  0.631837  learning rate 0.01 current best validate loss:  0.477747\n",
      "At epoch 3/100. Total training loss:  0.112141  current loss:  0.388781  learning rate 0.01 current best validate loss:  0.388781\n",
      "At epoch 4/100. Total training loss:  0.070771  current loss:  0.318638  learning rate 0.01 current best validate loss:  0.318638\n",
      "At epoch 5/100. Total training loss:  0.046913  current loss:  0.260284  learning rate 0.01 current best validate loss:  0.260284\n",
      "At epoch 6/100. Total training loss:  0.038768  current loss:  0.243637  learning rate 0.01 current best validate loss:  0.243637\n",
      "At epoch 7/100. Total training loss:  0.031454  current loss:  0.215667  learning rate 0.01 current best validate loss:  0.215667\n",
      "At epoch 8/100. Total training loss:  0.027610  current loss:  0.202833  learning rate 0.01 current best validate loss:  0.202833\n",
      "At epoch 9/100. Total training loss:  0.023787  current loss:  0.207168  learning rate 0.01 current best validate loss:  0.202833\n",
      "At epoch 10/100. Total training loss:  0.021230  current loss:  0.190778  learning rate 0.01 current best validate loss:  0.190778\n",
      "At epoch 11/100. Total training loss:  0.016122  current loss:  0.178789  learning rate 0.005 current best validate loss:  0.178789\n",
      "At epoch 12/100. Total training loss:  0.012974  current loss:  0.190378  learning rate 0.005 current best validate loss:  0.178789\n",
      "At epoch 13/100. Total training loss:  0.012076  current loss:  0.183847  learning rate 0.005 current best validate loss:  0.178789\n",
      "At epoch 14/100. Total training loss:  0.012424  current loss:  0.197661  learning rate 0.005 current best validate loss:  0.178789\n",
      "At epoch 15/100. Total training loss:  0.011773  current loss:  0.187117  learning rate 0.005 current best validate loss:  0.178789\n",
      "At epoch 16/100. Total training loss:  0.010820  current loss:  0.164453  learning rate 0.005 current best validate loss:  0.164453\n",
      "At epoch 17/100. Total training loss:  0.010877  current loss:  0.179597  learning rate 0.005 current best validate loss:  0.164453\n",
      "At epoch 18/100. Total training loss:  0.011379  current loss:  0.160802  learning rate 0.005 current best validate loss:  0.160802\n",
      "At epoch 19/100. Total training loss:  0.010206  current loss:  0.169168  learning rate 0.005 current best validate loss:  0.160802\n",
      "At epoch 20/100. Total training loss:  0.010232  current loss:  0.169425  learning rate 0.005 current best validate loss:  0.160802\n",
      "At epoch 21/100. Total training loss:  0.008851  current loss:  0.165555  learning rate 0.0025 current best validate loss:  0.160802\n",
      "At epoch 22/100. Total training loss:  0.007597  current loss:  0.157227  learning rate 0.0025 current best validate loss:  0.157227\n",
      "At epoch 23/100. Total training loss:  0.007209  current loss:  0.161924  learning rate 0.0025 current best validate loss:  0.157227\n",
      "At epoch 24/100. Total training loss:  0.008126  current loss:  0.152740  learning rate 0.0025 current best validate loss:  0.152740\n",
      "At epoch 25/100. Total training loss:  0.008385  current loss:  0.161905  learning rate 0.0025 current best validate loss:  0.152740\n",
      "At epoch 26/100. Total training loss:  0.008696  current loss:  0.155307  learning rate 0.0025 current best validate loss:  0.152740\n",
      "At epoch 27/100. Total training loss:  0.008099  current loss:  0.169016  learning rate 0.0025 current best validate loss:  0.152740\n",
      "At epoch 28/100. Total training loss:  0.007340  current loss:  0.162409  learning rate 0.0025 current best validate loss:  0.152740\n",
      "At epoch 29/100. Total training loss:  0.007457  current loss:  0.154104  learning rate 0.0025 current best validate loss:  0.152740\n",
      "At epoch 30/100. Total training loss:  0.007428  current loss:  0.152883  learning rate 0.0025 current best validate loss:  0.152740\n",
      "At epoch 31/100. Total training loss:  0.006694  current loss:  0.157722  learning rate 0.00125 current best validate loss:  0.152740\n",
      "At epoch 32/100. Total training loss:  0.006741  current loss:  0.154423  learning rate 0.00125 current best validate loss:  0.152740\n",
      "At epoch 33/100. Total training loss:  0.007345  current loss:  0.154575  learning rate 0.00125 current best validate loss:  0.152740\n",
      "At epoch 34/100. Total training loss:  0.006939  current loss:  0.160536  learning rate 0.00125 current best validate loss:  0.152740\n",
      "At epoch 35/100. Total training loss:  0.007760  current loss:  0.172733  learning rate 0.00125 current best validate loss:  0.152740\n",
      "At epoch 36/100. Total training loss:  0.006524  current loss:  0.155868  learning rate 0.00125 current best validate loss:  0.152740\n",
      "At epoch 37/100. Total training loss:  0.007131  current loss:  0.161144  learning rate 0.00125 current best validate loss:  0.152740\n",
      "At epoch 38/100. Total training loss:  0.006402  current loss:  0.160821  learning rate 0.00125 current best validate loss:  0.152740\n",
      "At epoch 39/100. Total training loss:  0.006367  current loss:  0.157227  learning rate 0.00125 current best validate loss:  0.152740\n",
      "At epoch 40/100. Total training loss:  0.006314  current loss:  0.156324  learning rate 0.00125 current best validate loss:  0.152740\n",
      "At epoch 41/100. Total training loss:  0.005962  current loss:  0.150126  learning rate 0.000625 current best validate loss:  0.150126\n",
      "At epoch 42/100. Total training loss:  0.005896  current loss:  0.150634  learning rate 0.000625 current best validate loss:  0.150126\n",
      "At epoch 43/100. Total training loss:  0.006407  current loss:  0.161525  learning rate 0.000625 current best validate loss:  0.150126\n",
      "At epoch 44/100. Total training loss:  0.006520  current loss:  0.160060  learning rate 0.000625 current best validate loss:  0.150126\n",
      "At epoch 45/100. Total training loss:  0.006248  current loss:  0.154119  learning rate 0.000625 current best validate loss:  0.150126\n",
      "At epoch 46/100. Total training loss:  0.006705  current loss:  0.159328  learning rate 0.000625 current best validate loss:  0.150126\n",
      "At epoch 47/100. Total training loss:  0.007689  current loss:  0.163188  learning rate 0.000625 current best validate loss:  0.150126\n",
      "At epoch 48/100. Total training loss:  0.006370  current loss:  0.157156  learning rate 0.000625 current best validate loss:  0.150126\n",
      "At epoch 49/100. Total training loss:  0.006652  current loss:  0.153225  learning rate 0.000625 current best validate loss:  0.150126\n",
      "At epoch 50/100. Total training loss:  0.006624  current loss:  0.161743  learning rate 0.000625 current best validate loss:  0.150126\n",
      "At epoch 51/100. Total training loss:  0.007214  current loss:  0.148614  learning rate 0.0003125 current best validate loss:  0.148614\n",
      "At epoch 52/100. Total training loss:  0.007187  current loss:  0.160194  learning rate 0.0003125 current best validate loss:  0.148614\n",
      "At epoch 53/100. Total training loss:  0.006793  current loss:  0.183818  learning rate 0.0003125 current best validate loss:  0.148614\n",
      "At epoch 54/100. Total training loss:  0.006251  current loss:  0.152683  learning rate 0.0003125 current best validate loss:  0.148614\n",
      "At epoch 55/100. Total training loss:  0.006861  current loss:  0.149089  learning rate 0.0003125 current best validate loss:  0.148614\n",
      "At epoch 56/100. Total training loss:  0.005788  current loss:  0.175148  learning rate 0.0003125 current best validate loss:  0.148614\n",
      "At epoch 57/100. Total training loss:  0.006451  current loss:  0.149769  learning rate 0.0003125 current best validate loss:  0.148614\n",
      "At epoch 58/100. Total training loss:  0.005748  current loss:  0.152065  learning rate 0.0003125 current best validate loss:  0.148614\n",
      "At epoch 59/100. Total training loss:  0.006041  current loss:  0.157484  learning rate 0.0003125 current best validate loss:  0.148614\n",
      "At epoch 60/100. Total training loss:  0.005801  current loss:  0.148319  learning rate 0.0003125 current best validate loss:  0.148319\n",
      "At epoch 61/100. Total training loss:  0.005996  current loss:  0.159775  learning rate 0.00015625 current best validate loss:  0.148319\n",
      "At epoch 62/100. Total training loss:  0.006820  current loss:  0.146926  learning rate 0.00015625 current best validate loss:  0.146926\n",
      "At epoch 63/100. Total training loss:  0.005978  current loss:  0.153482  learning rate 0.00015625 current best validate loss:  0.146926\n",
      "At epoch 64/100. Total training loss:  0.006529  current loss:  0.155240  learning rate 0.00015625 current best validate loss:  0.146926\n",
      "At epoch 65/100. Total training loss:  0.006035  current loss:  0.153586  learning rate 0.00015625 current best validate loss:  0.146926\n",
      "At epoch 66/100. Total training loss:  0.006772  current loss:  0.164909  learning rate 0.00015625 current best validate loss:  0.146926\n",
      "At epoch 67/100. Total training loss:  0.006366  current loss:  0.167609  learning rate 0.00015625 current best validate loss:  0.146926\n",
      "At epoch 68/100. Total training loss:  0.006609  current loss:  0.156552  learning rate 0.00015625 current best validate loss:  0.146926\n",
      "At epoch 69/100. Total training loss:  0.005763  current loss:  0.154280  learning rate 0.00015625 current best validate loss:  0.146926\n",
      "At epoch 70/100. Total training loss:  0.006198  current loss:  0.169377  learning rate 0.00015625 current best validate loss:  0.146926\n",
      "At epoch 71/100. Total training loss:  0.006061  current loss:  0.157218  learning rate 7.8125e-05 current best validate loss:  0.146926\n",
      "At epoch 72/100. Total training loss:  0.005894  current loss:  0.146708  learning rate 7.8125e-05 current best validate loss:  0.146708\n",
      "At epoch 73/100. Total training loss:  0.005981  current loss:  0.163616  learning rate 7.8125e-05 current best validate loss:  0.146708\n",
      "At epoch 74/100. Total training loss:  0.006606  current loss:  0.159690  learning rate 7.8125e-05 current best validate loss:  0.146708\n",
      "At epoch 75/100. Total training loss:  0.005770  current loss:  0.165879  learning rate 7.8125e-05 current best validate loss:  0.146708\n",
      "At epoch 76/100. Total training loss:  0.006106  current loss:  0.155507  learning rate 7.8125e-05 current best validate loss:  0.146708\n",
      "At epoch 77/100. Total training loss:  0.005619  current loss:  0.153710  learning rate 7.8125e-05 current best validate loss:  0.146708\n",
      "At epoch 78/100. Total training loss:  0.005674  current loss:  0.156904  learning rate 7.8125e-05 current best validate loss:  0.146708\n",
      "At epoch 79/100. Total training loss:  0.005971  current loss:  0.147815  learning rate 7.8125e-05 current best validate loss:  0.146708\n",
      "At epoch 80/100. Total training loss:  0.005529  current loss:  0.155478  learning rate 7.8125e-05 current best validate loss:  0.146708\n",
      "At epoch 81/100. Total training loss:  0.006633  current loss:  0.152151  learning rate 3.90625e-05 current best validate loss:  0.146708\n",
      "At epoch 82/100. Total training loss:  0.005495  current loss:  0.165318  learning rate 3.90625e-05 current best validate loss:  0.146708\n",
      "At epoch 83/100. Total training loss:  0.006453  current loss:  0.151694  learning rate 3.90625e-05 current best validate loss:  0.146708\n",
      "At epoch 84/100. Total training loss:  0.005174  current loss:  0.152407  learning rate 3.90625e-05 current best validate loss:  0.146708\n",
      "At epoch 85/100. Total training loss:  0.006821  current loss:  0.149840  learning rate 3.90625e-05 current best validate loss:  0.146708\n",
      "At epoch 86/100. Total training loss:  0.006317  current loss:  0.156780  learning rate 3.90625e-05 current best validate loss:  0.146708\n",
      "At epoch 87/100. Total training loss:  0.005591  current loss:  0.149992  learning rate 3.90625e-05 current best validate loss:  0.146708\n",
      "At epoch 88/100. Total training loss:  0.006845  current loss:  0.158520  learning rate 3.90625e-05 current best validate loss:  0.146708\n",
      "At epoch 89/100. Total training loss:  0.005775  current loss:  0.158977  learning rate 3.90625e-05 current best validate loss:  0.146708\n",
      "At epoch 90/100. Total training loss:  0.005510  current loss:  0.152388  learning rate 3.90625e-05 current best validate loss:  0.146708\n",
      "At epoch 91/100. Total training loss:  0.006024  current loss:  0.156590  learning rate 1.953125e-05 current best validate loss:  0.146708\n",
      "At epoch 92/100. Total training loss:  0.006533  current loss:  0.151609  learning rate 1.953125e-05 current best validate loss:  0.146708\n",
      "At epoch 93/100. Total training loss:  0.006469  current loss:  0.160317  learning rate 1.953125e-05 current best validate loss:  0.146708\n",
      "At epoch 94/100. Total training loss:  0.005783  current loss:  0.152170  learning rate 1.953125e-05 current best validate loss:  0.146708\n",
      "At epoch 95/100. Total training loss:  0.006120  current loss:  0.157284  learning rate 1.953125e-05 current best validate loss:  0.146708\n",
      "At epoch 96/100. Total training loss:  0.005830  current loss:  0.159357  learning rate 1.953125e-05 current best validate loss:  0.146708\n",
      "At epoch 97/100. Total training loss:  0.006063  current loss:  0.149451  learning rate 1.953125e-05 current best validate loss:  0.146708\n",
      "At epoch 98/100. Total training loss:  0.005195  current loss:  0.151300  learning rate 1.953125e-05 current best validate loss:  0.146708\n",
      "At epoch 99/100. Total training loss:  0.006003  current loss:  0.153586  learning rate 1.953125e-05 current best validate loss:  0.146708\n",
      "At epoch 100/100. Total training loss:  0.006064  current loss:  0.154917  learning rate 1.953125e-05 current best validate loss:  0.146708\n"
     ]
    },
    {
     "data": {
      "image/png": "[encoded data removed]",
      "text/plain": [
       "<Figure size 640x480 with 1 Axes>"
      ]
     },
     "metadata": {},
     "output_type": "display_data"
    },
    {
     "data": {
      "text/plain": [
       "<Figure size 640x480 with 0 Axes>"
      ]
     },
     "metadata": {},
     "output_type": "display_data"
    }
   ],
   "source": [
    "models = ResNet18(num_classes=30, channels=3)\n",
    "l_m = nn.MSELoss()\n",
    "train(l_m, \"best_r50_l2.pt\")"
   ]
  },
  {
   "cell_type": "code",
   "execution_count": 22,
   "id": "014daa86",
   "metadata": {
    "execution": {
     "iopub.execute_input": "2023-04-20T09:59:47.867391Z",
     "iopub.status.busy": "2023-04-20T09:59:47.867079Z",
     "iopub.status.idle": "2023-04-20T09:59:48.345393Z",
     "shell.execute_reply": "2023-04-20T09:59:48.344481Z"
    },
    "papermill": {
     "duration": 0.525874,
     "end_time": "2023-04-20T09:59:48.351339",
     "exception": false,
     "start_time": "2023-04-20T09:59:47.825465",
     "status": "completed"
    },
    "tags": []
   },
   "outputs": [
    {
     "name": "stderr",
     "output_type": "stream",
     "text": [
      "/opt/conda/lib/python3.7/site-packages/ipykernel_launcher.py:95: UserWarning: nn.init.xavier_uniform is now deprecated in favor of nn.init.xavier_uniform_.\n"
     ]
    },
    {
     "data": {
      "text/plain": [
       "ResNet(\n",
       "  (conv1): Conv2d(3, 64, kernel_size=(7, 7), stride=(2, 2), padding=(3, 3), bias=False)\n",
       "  (batch_norm1): BatchNorm2d(64, eps=1e-05, momentum=0.1, affine=True, track_running_stats=True)\n",
       "  (gelu): GELU(approximate='none')\n",
       "  (max_pool): MaxPool2d(kernel_size=3, stride=2, padding=1, dilation=1, ceil_mode=False)\n",
       "  (layer1): Sequential(\n",
       "    (0): Bottleneck(\n",
       "      (conv1): Conv2d(64, 64, kernel_size=(1, 1), stride=(1, 1))\n",
       "      (batch_norm1): BatchNorm2d(64, eps=1e-05, momentum=0.1, affine=True, track_running_stats=True)\n",
       "      (conv2): Conv2d(64, 64, kernel_size=(3, 3), stride=(1, 1), padding=(1, 1))\n",
       "      (batch_norm2): BatchNorm2d(64, eps=1e-05, momentum=0.1, affine=True, track_running_stats=True)\n",
       "      (conv3): Conv2d(64, 256, kernel_size=(1, 1), stride=(1, 1))\n",
       "      (batch_norm3): BatchNorm2d(256, eps=1e-05, momentum=0.1, affine=True, track_running_stats=True)\n",
       "      (i_downsample): Sequential(\n",
       "        (0): Conv2d(64, 256, kernel_size=(1, 1), stride=(1, 1))\n",
       "        (1): BatchNorm2d(256, eps=1e-05, momentum=0.1, affine=True, track_running_stats=True)\n",
       "      )\n",
       "      (gelu): GELU(approximate='none')\n",
       "    )\n",
       "    (1): Bottleneck(\n",
       "      (conv1): Conv2d(256, 64, kernel_size=(1, 1), stride=(1, 1))\n",
       "      (batch_norm1): BatchNorm2d(64, eps=1e-05, momentum=0.1, affine=True, track_running_stats=True)\n",
       "      (conv2): Conv2d(64, 64, kernel_size=(3, 3), stride=(1, 1), padding=(1, 1))\n",
       "      (batch_norm2): BatchNorm2d(64, eps=1e-05, momentum=0.1, affine=True, track_running_stats=True)\n",
       "      (conv3): Conv2d(64, 256, kernel_size=(1, 1), stride=(1, 1))\n",
       "      (batch_norm3): BatchNorm2d(256, eps=1e-05, momentum=0.1, affine=True, track_running_stats=True)\n",
       "      (gelu): GELU(approximate='none')\n",
       "    )\n",
       "  )\n",
       "  (layer2): Sequential(\n",
       "    (0): Bottleneck(\n",
       "      (conv1): Conv2d(256, 128, kernel_size=(1, 1), stride=(1, 1))\n",
       "      (batch_norm1): BatchNorm2d(128, eps=1e-05, momentum=0.1, affine=True, track_running_stats=True)\n",
       "      (conv2): Conv2d(128, 128, kernel_size=(3, 3), stride=(2, 2), padding=(1, 1))\n",
       "      (batch_norm2): BatchNorm2d(128, eps=1e-05, momentum=0.1, affine=True, track_running_stats=True)\n",
       "      (conv3): Conv2d(128, 512, kernel_size=(1, 1), stride=(1, 1))\n",
       "      (batch_norm3): BatchNorm2d(512, eps=1e-05, momentum=0.1, affine=True, track_running_stats=True)\n",
       "      (i_downsample): Sequential(\n",
       "        (0): Conv2d(256, 512, kernel_size=(1, 1), stride=(2, 2))\n",
       "        (1): BatchNorm2d(512, eps=1e-05, momentum=0.1, affine=True, track_running_stats=True)\n",
       "      )\n",
       "      (gelu): GELU(approximate='none')\n",
       "    )\n",
       "    (1): Bottleneck(\n",
       "      (conv1): Conv2d(512, 128, kernel_size=(1, 1), stride=(1, 1))\n",
       "      (batch_norm1): BatchNorm2d(128, eps=1e-05, momentum=0.1, affine=True, track_running_stats=True)\n",
       "      (conv2): Conv2d(128, 128, kernel_size=(3, 3), stride=(1, 1), padding=(1, 1))\n",
       "      (batch_norm2): BatchNorm2d(128, eps=1e-05, momentum=0.1, affine=True, track_running_stats=True)\n",
       "      (conv3): Conv2d(128, 512, kernel_size=(1, 1), stride=(1, 1))\n",
       "      (batch_norm3): BatchNorm2d(512, eps=1e-05, momentum=0.1, affine=True, track_running_stats=True)\n",
       "      (gelu): GELU(approximate='none')\n",
       "    )\n",
       "  )\n",
       "  (layer3): Sequential(\n",
       "    (0): Bottleneck(\n",
       "      (conv1): Conv2d(512, 256, kernel_size=(1, 1), stride=(1, 1))\n",
       "      (batch_norm1): BatchNorm2d(256, eps=1e-05, momentum=0.1, affine=True, track_running_stats=True)\n",
       "      (conv2): Conv2d(256, 256, kernel_size=(3, 3), stride=(2, 2), padding=(1, 1))\n",
       "      (batch_norm2): BatchNorm2d(256, eps=1e-05, momentum=0.1, affine=True, track_running_stats=True)\n",
       "      (conv3): Conv2d(256, 1024, kernel_size=(1, 1), stride=(1, 1))\n",
       "      (batch_norm3): BatchNorm2d(1024, eps=1e-05, momentum=0.1, affine=True, track_running_stats=True)\n",
       "      (i_downsample): Sequential(\n",
       "        (0): Conv2d(512, 1024, kernel_size=(1, 1), stride=(2, 2))\n",
       "        (1): BatchNorm2d(1024, eps=1e-05, momentum=0.1, affine=True, track_running_stats=True)\n",
       "      )\n",
       "      (gelu): GELU(approximate='none')\n",
       "    )\n",
       "    (1): Bottleneck(\n",
       "      (conv1): Conv2d(1024, 256, kernel_size=(1, 1), stride=(1, 1))\n",
       "      (batch_norm1): BatchNorm2d(256, eps=1e-05, momentum=0.1, affine=True, track_running_stats=True)\n",
       "      (conv2): Conv2d(256, 256, kernel_size=(3, 3), stride=(1, 1), padding=(1, 1))\n",
       "      (batch_norm2): BatchNorm2d(256, eps=1e-05, momentum=0.1, affine=True, track_running_stats=True)\n",
       "      (conv3): Conv2d(256, 1024, kernel_size=(1, 1), stride=(1, 1))\n",
       "      (batch_norm3): BatchNorm2d(1024, eps=1e-05, momentum=0.1, affine=True, track_running_stats=True)\n",
       "      (gelu): GELU(approximate='none')\n",
       "    )\n",
       "  )\n",
       "  (layer4): Sequential(\n",
       "    (0): Bottleneck(\n",
       "      (conv1): Conv2d(1024, 512, kernel_size=(1, 1), stride=(1, 1))\n",
       "      (batch_norm1): BatchNorm2d(512, eps=1e-05, momentum=0.1, affine=True, track_running_stats=True)\n",
       "      (conv2): Conv2d(512, 512, kernel_size=(3, 3), stride=(2, 2), padding=(1, 1))\n",
       "      (batch_norm2): BatchNorm2d(512, eps=1e-05, momentum=0.1, affine=True, track_running_stats=True)\n",
       "      (conv3): Conv2d(512, 2048, kernel_size=(1, 1), stride=(1, 1))\n",
       "      (batch_norm3): BatchNorm2d(2048, eps=1e-05, momentum=0.1, affine=True, track_running_stats=True)\n",
       "      (i_downsample): Sequential(\n",
       "        (0): Conv2d(1024, 2048, kernel_size=(1, 1), stride=(2, 2))\n",
       "        (1): BatchNorm2d(2048, eps=1e-05, momentum=0.1, affine=True, track_running_stats=True)\n",
       "      )\n",
       "      (gelu): GELU(approximate='none')\n",
       "    )\n",
       "    (1): Bottleneck(\n",
       "      (conv1): Conv2d(2048, 512, kernel_size=(1, 1), stride=(1, 1))\n",
       "      (batch_norm1): BatchNorm2d(512, eps=1e-05, momentum=0.1, affine=True, track_running_stats=True)\n",
       "      (conv2): Conv2d(512, 512, kernel_size=(3, 3), stride=(1, 1), padding=(1, 1))\n",
       "      (batch_norm2): BatchNorm2d(512, eps=1e-05, momentum=0.1, affine=True, track_running_stats=True)\n",
       "      (conv3): Conv2d(512, 2048, kernel_size=(1, 1), stride=(1, 1))\n",
       "      (batch_norm3): BatchNorm2d(2048, eps=1e-05, momentum=0.1, affine=True, track_running_stats=True)\n",
       "      (gelu): GELU(approximate='none')\n",
       "    )\n",
       "  )\n",
       "  (avgpool): AdaptiveAvgPool2d(output_size=(1, 1))\n",
       "  (fc): Linear(in_features=2048, out_features=30, bias=True)\n",
       ")"
      ]
     },
     "execution_count": 22,
     "metadata": {},
     "output_type": "execute_result"
    }
   ],
   "source": [
    "models = ResNet18(num_classes=30, channels=3)\n",
    "models.load_state_dict(torch.load('best_r50_wingl.pt', map_location=device), strict=False)\n",
    "models.eval().to(device)"
   ]
  },
  {
   "cell_type": "code",
   "execution_count": 23,
   "id": "581d7f00",
   "metadata": {
    "execution": {
     "iopub.execute_input": "2023-04-20T09:59:48.478011Z",
     "iopub.status.busy": "2023-04-20T09:59:48.477534Z",
     "iopub.status.idle": "2023-04-20T09:59:49.036797Z",
     "shell.execute_reply": "2023-04-20T09:59:49.035670Z"
    },
    "papermill": {
     "duration": 0.626249,
     "end_time": "2023-04-20T09:59:49.039891",
     "exception": false,
     "start_time": "2023-04-20T09:59:48.413642",
     "status": "completed"
    },
    "tags": []
   },
   "outputs": [
    {
     "data": {
      "image/png": "[encoded data removed]",
      "text/plain": [
       "<Figure size 640x480 with 1 Axes>"
      ]
     },
     "metadata": {},
     "output_type": "display_data"
    }
   ],
   "source": [
    "inputs, labels = next(iter(val_loader))  \n",
    "inputs, labels = inputs.to(device, non_blocking=True), labels.to(device, non_blocking=True)\n",
    "\n",
    "pred = models(inputs.to(device))\n",
    "index = int(random.randint(0, len(inputs)-1))\n",
    "show_image(inputs, labels, index, pred)"
   ]
  },
  {
   "cell_type": "code",
   "execution_count": 24,
   "id": "bf5830dc",
   "metadata": {
    "execution": {
     "iopub.execute_input": "2023-04-20T09:59:49.175048Z",
     "iopub.status.busy": "2023-04-20T09:59:49.174682Z",
     "iopub.status.idle": "2023-04-20T09:59:49.179634Z",
     "shell.execute_reply": "2023-04-20T09:59:49.178745Z"
    },
    "papermill": {
     "duration": 0.075646,
     "end_time": "2023-04-20T09:59:49.183886",
     "exception": false,
     "start_time": "2023-04-20T09:59:49.108240",
     "status": "completed"
    },
    "tags": []
   },
   "outputs": [],
   "source": [
    "def postprocess(pred, img_w):\n",
    "    pred = (pred) * img_w\n",
    "    return pred"
   ]
  },
  {
   "cell_type": "code",
   "execution_count": 25,
   "id": "fc8b91db",
   "metadata": {
    "execution": {
     "iopub.execute_input": "2023-04-20T09:59:49.311650Z",
     "iopub.status.busy": "2023-04-20T09:59:49.311205Z",
     "iopub.status.idle": "2023-04-20T09:59:59.306025Z",
     "shell.execute_reply": "2023-04-20T09:59:59.304824Z"
    },
    "papermill": {
     "duration": 10.062377,
     "end_time": "2023-04-20T09:59:59.309156",
     "exception": false,
     "start_time": "2023-04-20T09:59:49.246779",
     "status": "completed"
    },
    "tags": []
   },
   "outputs": [
    {
     "name": "stdout",
     "output_type": "stream",
     "text": [
      "Collecting thop\r\n",
      "  Downloading thop-0.1.1.post2209072238-py3-none-any.whl (15 kB)\r\n",
      "Requirement already satisfied: torch in /opt/conda/lib/python3.7/site-packages (from thop) (1.13.0)\r\n",
      "Requirement already satisfied: typing-extensions in /opt/conda/lib/python3.7/site-packages (from torch->thop) (4.4.0)\r\n",
      "Installing collected packages: thop\r\n",
      "Successfully installed thop-0.1.1.post2209072238\r\n",
      "\u001b[33mWARNING: Running pip as the 'root' user can result in broken permissions and conflicting behaviour with the system package manager. It is recommended to use a virtual environment instead: https://pip.pypa.io/warnings/venv\u001b[0m\u001b[33m\r\n",
      "\u001b[0m"
     ]
    }
   ],
   "source": [
    "!pip install thop"
   ]
  },
  {
   "cell_type": "code",
   "execution_count": 26,
   "id": "2cf1b933",
   "metadata": {
    "execution": {
     "iopub.execute_input": "2023-04-20T09:59:59.393581Z",
     "iopub.status.busy": "2023-04-20T09:59:59.393194Z",
     "iopub.status.idle": "2023-04-20T09:59:59.443882Z",
     "shell.execute_reply": "2023-04-20T09:59:59.442886Z"
    },
    "papermill": {
     "duration": 0.094592,
     "end_time": "2023-04-20T09:59:59.445975",
     "exception": false,
     "start_time": "2023-04-20T09:59:59.351383",
     "status": "completed"
    },
    "tags": []
   },
   "outputs": [
    {
     "name": "stdout",
     "output_type": "stream",
     "text": [
      "[INFO] Register count_convNd() for <class 'torch.nn.modules.conv.Conv2d'>.\n",
      "[INFO] Register count_normalization() for <class 'torch.nn.modules.batchnorm.BatchNorm2d'>.\n",
      "[INFO] Register zero_ops() for <class 'torch.nn.modules.pooling.MaxPool2d'>.\n",
      "[INFO] Register zero_ops() for <class 'torch.nn.modules.container.Sequential'>.\n",
      "[INFO] Register count_adap_avgpool() for <class 'torch.nn.modules.pooling.AdaptiveAvgPool2d'>.\n",
      "[INFO] Register count_linear() for <class 'torch.nn.modules.linear.Linear'>.\n",
      "435.317M 14.023M\n"
     ]
    }
   ],
   "source": [
    "\n",
    "from thop import clever_format\n",
    "from thop import profile\n",
    "input = torch.randn(1, 3, 96, 96).to(device)\n",
    "flops, params = profile(models.eval(), inputs=(input, ))\n",
    "flops, params = clever_format([flops, params], \"%.3f\")\n",
    "print(flops, params)"
   ]
  },
  {
   "cell_type": "code",
   "execution_count": 27,
   "id": "a53aacf3",
   "metadata": {
    "execution": {
     "iopub.execute_input": "2023-04-20T09:59:59.530850Z",
     "iopub.status.busy": "2023-04-20T09:59:59.529940Z",
     "iopub.status.idle": "2023-04-20T09:59:59.803526Z",
     "shell.execute_reply": "2023-04-20T09:59:59.802488Z"
    },
    "papermill": {
     "duration": 0.317457,
     "end_time": "2023-04-20T09:59:59.805689",
     "exception": false,
     "start_time": "2023-04-20T09:59:59.488232",
     "status": "completed"
    },
    "tags": []
   },
   "outputs": [
    {
     "data": {
      "text/plain": [
       "<Figure size 640x480 with 0 Axes>"
      ]
     },
     "execution_count": 27,
     "metadata": {},
     "output_type": "execute_result"
    },
    {
     "data": {
      "image/png": "[encoded data removed]",
      "text/plain": [
       "<Figure size 640x480 with 1 Axes>"
      ]
     },
     "metadata": {},
     "output_type": "display_data"
    },
    {
     "data": {
      "text/plain": [
       "<Figure size 640x480 with 0 Axes>"
      ]
     },
     "metadata": {},
     "output_type": "display_data"
    }
   ],
   "source": [
    "def load_his(file_name):\n",
    "    temp = None\n",
    "    with open(file_name, \"rb\") as fp:\n",
    "       temp = pickle.load(fp)\n",
    "    return temp\n",
    "shv2_awing = np.clip(np.asarray(load_his(\"best_shufflenet_v2_awingl\")), 0., 1.)\n",
    "shv2_wings = np.clip(np.asarray(load_his(\"best_shufflenet_v2_wingl\")), 0., 1.)\n",
    "shv2_l2 = np.clip(np.asarray(load_his(\"best_shufflenet_v2_l2\")), 0., 1.)\n",
    "shv2_l1 = np.clip(np.asarray(load_his(\"best_shufflenet_v2_l1\")), 0., 1.)\n",
    "r50_wingl = np.clip(np.asarray(load_his(\"best_r50_wingl\")), 0., 1.)\n",
    "r50_l2 = np.clip(np.asarray(load_his(\"best_r50_l2\")), 0., 1.)\n",
    "\n",
    "plt.clf()\n",
    "plt.plot(shv2_awing)\n",
    "plt.plot(shv2_wings)\n",
    "plt.plot(shv2_l2)\n",
    "plt.plot(shv2_l1)\n",
    "plt.plot(r50_wingl)\n",
    "plt.plot(r50_l2)\n",
    "plt.xlabel(\"Epoch\")\n",
    "plt.ylabel(\"Loss\")\n",
    "plt.suptitle(\"Loss Epoch\")\n",
    "plt.legend([\"shufflenetv2_awing\", \"shufflenetv2_wing\", \"shufflenetv2_l2(MSE)\", \"shufflenetv2_l1\", \"r50_wing\", \"r50_l2(MSE)\"])\n",
    "plt.figure()"
   ]
  },
  {
   "cell_type": "code",
   "execution_count": 28,
   "id": "d47571ba",
   "metadata": {
    "execution": {
     "iopub.execute_input": "2023-04-20T09:59:59.892223Z",
     "iopub.status.busy": "2023-04-20T09:59:59.891375Z",
     "iopub.status.idle": "2023-04-20T09:59:59.898578Z",
     "shell.execute_reply": "2023-04-20T09:59:59.897093Z"
    },
    "papermill": {
     "duration": 0.052159,
     "end_time": "2023-04-20T09:59:59.900679",
     "exception": false,
     "start_time": "2023-04-20T09:59:59.848520",
     "status": "completed"
    },
    "tags": []
   },
   "outputs": [
    {
     "name": "stdout",
     "output_type": "stream",
     "text": [
      "Model shufflev2x0.5 use AdaptiveWingLoss best loss value are:  0.12283562871154595\n",
      "Model shufflev2x0.5 use WingLoss best loss value are:  0.0512310277635806\n",
      "Model shufflev2x0.5 use L2(MSE) best loss value are:  0.10875571182583724\n",
      "Model shufflev2x0.5 use L1 best loss value are:  0.07815494715610398\n",
      "Model R18 use WingLoss best loss value are:  0.05015197944046924\n",
      "Model R18 use L2(MSE) best loss value are:  0.14670779029156933\n"
     ]
    }
   ],
   "source": [
    "print(\"Model shufflev2x0.5 use AdaptiveWingLoss best loss value are: \", min(shv2_awing))\n",
    "print(\"Model shufflev2x0.5 use WingLoss best loss value are: \", min(shv2_wings))\n",
    "print(\"Model shufflev2x0.5 use L2(MSE) best loss value are: \", min(shv2_l2))\n",
    "print(\"Model shufflev2x0.5 use L1 best loss value are: \", min(shv2_l1))\n",
    "print(\"Model R18 use WingLoss best loss value are: \", min(r50_wingl))\n",
    "print(\"Model R18 use L2(MSE) best loss value are: \", min(r50_l2))"
   ]
  },
  {
   "cell_type": "code",
   "execution_count": null,
   "id": "ae2e45c2",
   "metadata": {
    "papermill": {
     "duration": 0.04214,
     "end_time": "2023-04-20T09:59:59.984511",
     "exception": false,
     "start_time": "2023-04-20T09:59:59.942371",
     "status": "completed"
    },
    "tags": []
   },
   "outputs": [],
   "source": []
  }
 ],
 "metadata": {
  "kernelspec": {
   "display_name": "Python 3 (ipykernel)",
   "language": "python",
   "name": "python3"
  },
  "language_info": {
   "codemirror_mode": {
    "name": "ipython",
    "version": 3
   },
   "file_extension": ".py",
   "mimetype": "text/x-python",
   "name": "python",
   "nbconvert_exporter": "python",
   "pygments_lexer": "ipython3",
   "version": "3.12.4"
  },
  "papermill": {
   "default_parameters": {},
   "duration": 1061.272867,
   "end_time": "2023-04-20T10:00:01.853153",
   "environment_variables": {},
   "exception": null,
   "input_path": "__notebook__.ipynb",
   "output_path": "__notebook__.ipynb",
   "parameters": {},
   "start_time": "2023-04-20T09:42:20.580286",
   "version": "2.4.0"
  }
 },
 "nbformat": 4,
 "nbformat_minor": 5
}
